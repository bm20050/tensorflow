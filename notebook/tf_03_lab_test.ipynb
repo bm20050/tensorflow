{
 "nbformat": 4,
 "nbformat_minor": 0,
 "metadata": {
  "colab": {
   "provenance": [],
   "toc_visible": true
  },
  "kernelspec": {
   "name": "python3",
   "language": "python",
   "display_name": "Python 3 (ipykernel)"
  },
  "language_info": {
   "name": "python"
  }
 },
 "cells": [
  {
   "cell_type": "markdown",
   "source": [
    "# Lab Test\n",
    "\n",
    "\n"
   ],
   "metadata": {
    "id": "CtmAAR2SYOY4"
   }
  },
  {
   "cell_type": "markdown",
   "source": [
    "## 0. Prerequisite"
   ],
   "metadata": {
    "id": "AOkNhC_-gwri"
   }
  },
  {
   "cell_type": "code",
   "source": [
    "import tensorflow as tf\n",
    "import numpy as np\n",
    "import matplotlib.pyplot as plt"
   ],
   "metadata": {
    "id": "_2HXPe4vg08m",
    "ExecuteTime": {
     "start_time": "2023-04-21T17:29:03.830244Z",
     "end_time": "2023-04-21T17:29:08.989662Z"
    }
   },
   "execution_count": 1,
   "outputs": []
  },
  {
   "cell_type": "markdown",
   "source": [
    "## 문제 1\n",
    "---\n",
    "\n",
    "2 x 2 행렬을 나타내는 constant 를 정의하시오. \n",
    "\n",
    "단, 값은 1, 2, 3, 4 이며 타입은 float32 으로 하시오. \n",
    "\n",
    "* **출력형식**\n",
    "\n",
    "<tf.Tensor: shape=(2, 2), dtype=float32, numpy=array([[1., 2.],[3., 4.]], dtype=float32)>\n",
    "\n",
    "---"
   ],
   "metadata": {
    "id": "w6dvVR-SAhr0"
   }
  },
  {
   "cell_type": "code",
   "source": [],
   "metadata": {
    "id": "abGEU9OTbYLH",
    "ExecuteTime": {
     "start_time": "2023-04-21T17:30:39.027177Z",
     "end_time": "2023-04-21T17:30:39.074128Z"
    }
   },
   "execution_count": 7,
   "outputs": [
    {
     "data": {
      "text/plain": "<tf.Tensor: shape=(2, 2), dtype=float32, numpy=\narray([[1., 2.],\n       [3., 4.]], dtype=float32)>"
     },
     "execution_count": 7,
     "metadata": {},
     "output_type": "execute_result"
    }
   ]
  },
  {
   "cell_type": "markdown",
   "source": [
    "## 문제 2\n",
    "---\n",
    "np.array[[1,2,3],[4,5,6]] 을 Variable 로 정의하시오.\n",
    "\n",
    "* **출력형식**\n",
    "\n",
    "\n",
    "<tf.Variable 'Variable:0' shape=(2, 3) dtype=int64, numpy=array([[1, 2, 3],[4, 5, 6]])>\n",
    "\n",
    "---"
   ],
   "metadata": {
    "id": "0vQ4R0qiAVnu"
   }
  },
  {
   "cell_type": "code",
   "source": [
    "arr = np.array([[1,2,3],[4,5,6]])\n",
    "tf.Variable(arr)"
   ],
   "metadata": {
    "id": "AXHJ8bW8bmNN",
    "ExecuteTime": {
     "start_time": "2023-04-21T17:37:21.749652Z",
     "end_time": "2023-04-21T17:37:21.765167Z"
    }
   },
   "execution_count": 14,
   "outputs": [
    {
     "data": {
      "text/plain": "<tf.Variable 'Variable:0' shape=(2, 3) dtype=int32, numpy=\narray([[1, 2, 3],\n       [4, 5, 6]])>"
     },
     "execution_count": 14,
     "metadata": {},
     "output_type": "execute_result"
    }
   ]
  },
  {
   "cell_type": "markdown",
   "source": [
    "## 문제 3\n",
    "---\n",
    "주어진 tensor 에서 특정 elements 를 추출하시오.\n",
    "\n",
    "* **주어진 tensor**\n",
    "\n",
    "```python\n",
    "t1 = tf.constant([0, 1, 2, 3, 4, 5, 6, 7])\n",
    "\n",
    "t2 = tf.constant([[0, 1, 2, 3, 4],\n",
    "                  [5, 6, 7, 8, 9],\n",
    "                  [10, 11, 12, 13, 14],\n",
    "                  [15, 16, 17, 18, 19]])\n",
    "\n",
    "t3 = tf.constant([[[1, 3, 5, 7],\n",
    "                   [9, 11, 13, 15]],\n",
    "                  [[17, 19, 21, 23],\n",
    "                   [25, 27, 29, 31]]\n",
    "                  ])\n",
    "```\n",
    "\n",
    "* **출력형식**\n",
    "\n",
    "t1 tf.Tensor([1 2 3], shape=(3,), dtype=int32)\n",
    "\n",
    "t2 tf.Tensor( [[ 1 2] [ 6 7] [11 12]], shape=(3, 2), dtype=int32)\n",
    "\n",
    "t3 tf.Tensor([[[25 27]]], shape=(1, 1, 2), dtype=int32)\n",
    "\n",
    "---"
   ],
   "metadata": {
    "id": "2j3Q1IhaBf_e"
   }
  },
  {
   "cell_type": "code",
   "source": [],
   "metadata": {
    "id": "Bu1D4Zq3Bjnw"
   },
   "execution_count": null,
   "outputs": []
  },
  {
   "cell_type": "markdown",
   "source": [
    "## 문제 4\n",
    "---\n",
    "shape 이 3 x 16 x 16 인 tensor를 생성하시오.\n",
    "\n",
    "단, 값은 모두 1로 설정하시오.\n",
    "\n",
    "* **출력형식**\n",
    "\n",
    "\n",
    "<tf.Tensor: shape=(3, 16, 16), dtype=float32, numpy=생략>\n",
    "\n",
    "---"
   ],
   "metadata": {
    "id": "tx-xRRRVk8QV"
   }
  },
  {
   "cell_type": "code",
   "source": [],
   "metadata": {
    "id": "ikBWtBc-kckM"
   },
   "execution_count": null,
   "outputs": []
  },
  {
   "cell_type": "markdown",
   "source": [
    "## 문제 5\n",
    "---\n",
    "shape 이 3 x 16 x 16 인 tensor를 3개 생성하시오.\n",
    "\n",
    "* 첫 번째 tensor는 값이 모두 0 \n",
    "* 두 번째 tensor는 값이 모두 1\n",
    "* 세 번째 tensor는 값이 모두 2\n",
    "\n",
    "단, 3개의 tensors를 하나의 tensor 에 저장하시오.\n",
    "\n",
    "* **출력형식**\n",
    "\n",
    "<tf.Tensor: shape=(3, 3, 16, 16), dtype=float32, numpy=생략>"
   ],
   "metadata": {
    "id": "Xs3noXsMl0jo"
   }
  },
  {
   "cell_type": "code",
   "source": [],
   "metadata": {
    "id": "esB5XNFom7gD"
   },
   "execution_count": null,
   "outputs": []
  },
  {
   "cell_type": "markdown",
   "source": [
    "## 문제 6\n",
    "---\n",
    "shape 이 3 x 16 x 16 인 tensor (dtype=int32) 를 8개 생성하시오.\n",
    "\n",
    "* tensor의 값은 0~255 범위의 random 정수값\n",
    "\n",
    "단, 8개의 tensors를 하나의 tensor 에 저장하시오.\n",
    "\n",
    "* **출력형식**\n",
    "\n",
    "<tf.Tensor: shape=(8, 3, 16, 16), dtype=int32, numpy=생략>"
   ],
   "metadata": {
    "id": "-d-iyaDToaSS"
   }
  },
  {
   "cell_type": "code",
   "source": [],
   "metadata": {
    "id": "qaVSPqBvfktL"
   },
   "execution_count": null,
   "outputs": []
  },
  {
   "cell_type": "markdown",
   "source": [
    "## 문제 7\n",
    "---\n",
    "shape 이 3 x 16 x 16 인 tensor (dtype=flaot32) 를 8개 생성하시오.\n",
    "\n",
    "* tensor의 값은 -1~1 범위의 random 실수값\n",
    "\n",
    "단, 8개의 tensors를 하나의 tensor 에 저장하시오.\n",
    "\n",
    "* **출력형식**\n",
    "\n",
    "<tf.Tensor: shape=(8, 3, 16, 16), dtype=int32, numpy=생략>"
   ],
   "metadata": {
    "id": "ELUuSllBetDn"
   }
  },
  {
   "cell_type": "code",
   "source": [],
   "metadata": {
    "id": "P4DWueQmeubB"
   },
   "execution_count": null,
   "outputs": []
  },
  {
   "cell_type": "markdown",
   "source": [
    "## 문제 8\n",
    "---\n",
    "주어진 MPG dataset을 이용하여 데이터를 분석하시오.\n",
    "\n",
    "* 결측값을 찾아 해당 컬럼의 평균값으로 대체\n",
    "* MPG, Cylinders, Horsepower, Weight 컬럼들의 합, 평균, 최솟값, 최댓값\n",
    "* Horsepower 가 가장 큰 데이터의 row 번호 (0부터 시작)\n",
    "* Horsepower 가 가장 큰 데이터 (하나임)\n",
    "\n",
    "```python\n",
    "#pip install -q seaborn\n",
    "import matplotlib.pyplot as plt\n",
    "import numpy as np\n",
    "import pandas as pd\n",
    "#import seaborn as sns\n",
    "\n",
    "# Make NumPy printouts easier to read.\n",
    "np.set_printoptions(precision=3, suppress=True)\n",
    "import tensorflow as tf\n",
    "\n",
    "url = 'http://archive.ics.uci.edu/ml/machine-learning-databases/auto-mpg/auto-mpg.data'\n",
    "column_names = ['MPG', 'Cylinders', 'Displacement', 'Horsepower', 'Weight',\n",
    "                'Acceleration', 'Model Year', 'Origin']\n",
    "\n",
    "raw_dataset = pd.read_csv(url, names=column_names,\n",
    "                          na_values='?', comment='\\t',\n",
    "                          sep=' ', skipinitialspace=True)\n",
    "raw_dataset.head()\n",
    "# 결측값 처리\n",
    "dataset = tf.Variable(raw_dataset)\n",
    "\n",
    "```"
   ],
   "metadata": {
    "id": "0oWkAdgtd5dJ"
   }
  },
  {
   "cell_type": "code",
   "source": [],
   "metadata": {
    "id": "Kxr2r0QVYtMW"
   },
   "execution_count": null,
   "outputs": []
  },
  {
   "cell_type": "markdown",
   "source": [
    "## 문제 9\n",
    "---\n",
    "주어진 이미지를 이용하여 다음 값을 계산하시오.\n",
    "\n",
    "* 각 채널(RGB) 별 이미지의 평균값 (3개)\n",
    "* 각 채널(RGB)을 평균값으로 병합 (이미지 한개)\n",
    "\n",
    "```python\n",
    "import tensorflow as tf\n",
    "\n",
    "(x_train, y_train), (x_test, y_test) = tf.keras.datasets.cifar10.load_data()\n",
    "print(x_train.shape)\n",
    "print(x_train[0,].shape)\n",
    "image = x_train[3,]\n",
    "\n",
    "fig, ax = plt.subplots(figsize=(5,5))\n",
    "ax.imshow(image)\n",
    "\n",
    "```"
   ],
   "metadata": {
    "id": "bVYdiuNDexEl"
   }
  },
  {
   "cell_type": "code",
   "source": [],
   "metadata": {
    "id": "O_8AU28Sx7ls"
   },
   "execution_count": null,
   "outputs": []
  },
  {
   "cell_type": "markdown",
   "source": [
    "# 과제 1\n",
    "\n",
    "주어진 Auto MPG dataset 데이터 셋을 이용하여 자동차의 연비를 예측하는 모델을 구현하시오.\n",
    "\n",
    "\n",
    "**제출**\n",
    "\n",
    "구현한 코드가 담긴 colab 파일을 PLATO \"텐서플로 과제 제출 게시판\"에 제출하세요. (4/23까지)\n",
    "\n",
    "**참고**\n",
    "\n",
    "https://www.tensorflow.org/tutorials/keras/regression\n",
    "\n",
    "\n",
    "```python\n",
    "import tensorflow as tf\n",
    "import pandas as pd\n",
    "import matplotlib.pyplot as plt\n",
    "import numpy as np\n",
    "\n",
    "url = 'http://archive.ics.uci.edu/ml/machine-learning-databases/auto-mpg/auto-mpg.data'\n",
    "column_names = ['MPG', 'Cylinders', 'Displacement', 'Horsepower', 'Weight',\n",
    "                'Acceleration', 'Model Year', 'Origin']\n",
    "\n",
    "raw_dataset = pd.read_csv(url, names=column_names,\n",
    "                          na_values='?', comment='\\t',\n",
    "                          sep=' ', skipinitialspace=True)\n",
    "```"
   ],
   "metadata": {
    "id": "1t6t2FVSx8dk"
   }
  },
  {
   "cell_type": "code",
   "source": [],
   "metadata": {
    "id": "on2S_z4Ux9a0"
   },
   "execution_count": null,
   "outputs": []
  }
 ]
}
