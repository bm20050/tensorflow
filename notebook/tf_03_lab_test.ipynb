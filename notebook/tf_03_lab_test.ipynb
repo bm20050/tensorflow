{
 "nbformat": 4,
 "nbformat_minor": 0,
 "metadata": {
  "colab": {
   "provenance": [],
   "toc_visible": true
  },
  "kernelspec": {
   "name": "python3",
   "language": "python",
   "display_name": "Python 3 (ipykernel)"
  },
  "language_info": {
   "name": "python"
  }
 },
 "cells": [
  {
   "cell_type": "markdown",
   "source": [
    "# Lab Test\n",
    "\n",
    "\n"
   ],
   "metadata": {
    "id": "CtmAAR2SYOY4"
   }
  },
  {
   "cell_type": "markdown",
   "source": [
    "## 0. Prerequisite"
   ],
   "metadata": {
    "id": "AOkNhC_-gwri"
   }
  },
  {
   "cell_type": "code",
   "source": [
    "import tensorflow as tf\n",
    "import numpy as np\n",
    "import matplotlib.pyplot as plt"
   ],
   "metadata": {
    "id": "_2HXPe4vg08m",
    "ExecuteTime": {
     "start_time": "2023-04-21T21:54:37.809249Z",
     "end_time": "2023-04-21T21:54:42.172931Z"
    }
   },
   "execution_count": 1,
   "outputs": []
  },
  {
   "cell_type": "markdown",
   "source": [
    "## 문제 1\n",
    "---\n",
    "\n",
    "2 x 2 행렬을 나타내는 constant 를 정의하시오. \n",
    "\n",
    "단, 값은 1, 2, 3, 4 이며 타입은 float32 으로 하시오. \n",
    "\n",
    "* **출력형식**\n",
    "\n",
    "<tf.Tensor: shape=(2, 2), dtype=float32, numpy=array([[1., 2.],[3., 4.]], dtype=float32)>\n",
    "\n",
    "---"
   ],
   "metadata": {
    "id": "w6dvVR-SAhr0"
   }
  },
  {
   "cell_type": "code",
   "source": [
    "data = np.array([1, 2, 3, 4])\n",
    "tf.constant(data, shape=(2, 2), dtype=tf.dtypes.float32)"
   ],
   "metadata": {
    "id": "abGEU9OTbYLH",
    "ExecuteTime": {
     "start_time": "2023-04-21T21:54:59.701599Z",
     "end_time": "2023-04-21T21:54:59.723878Z"
    }
   },
   "execution_count": 3,
   "outputs": [
    {
     "data": {
      "text/plain": "<tf.Tensor: shape=(2, 2), dtype=float32, numpy=\narray([[1., 2.],\n       [3., 4.]], dtype=float32)>"
     },
     "execution_count": 3,
     "metadata": {},
     "output_type": "execute_result"
    }
   ]
  },
  {
   "cell_type": "markdown",
   "source": [
    "## 문제 2\n",
    "---\n",
    "np.array[[1,2,3],[4,5,6]] 을 Variable 로 정의하시오.\n",
    "\n",
    "* **출력형식**\n",
    "\n",
    "\n",
    "<tf.Variable 'Variable:0' shape=(2, 3) dtype=int64, numpy=array([[1, 2, 3],[4, 5, 6]])>\n",
    "\n",
    "---"
   ],
   "metadata": {
    "id": "0vQ4R0qiAVnu"
   }
  },
  {
   "cell_type": "code",
   "source": [
    "arr = np.array([[1,2,3],[4,5,6]])\n",
    "tf.Variable(arr)"
   ],
   "metadata": {
    "id": "AXHJ8bW8bmNN",
    "ExecuteTime": {
     "start_time": "2023-04-21T21:55:10.504983Z",
     "end_time": "2023-04-21T21:55:10.560902Z"
    }
   },
   "execution_count": 4,
   "outputs": [
    {
     "data": {
      "text/plain": "<tf.Variable 'Variable:0' shape=(2, 3) dtype=int32, numpy=\narray([[1, 2, 3],\n       [4, 5, 6]])>"
     },
     "execution_count": 4,
     "metadata": {},
     "output_type": "execute_result"
    }
   ]
  },
  {
   "cell_type": "markdown",
   "source": [
    "## 문제 3\n",
    "---\n",
    "주어진 tensor 에서 특정 elements 를 추출하시오.\n",
    "\n",
    "* **주어진 tensor**\n",
    "\n",
    "```python\n",
    "t1 = tf.constant([0, 1, 2, 3, 4, 5, 6, 7])\n",
    "\n",
    "t2 = tf.constant([[0, 1, 2, 3, 4],\n",
    "                  [5, 6, 7, 8, 9],\n",
    "                  [10, 11, 12, 13, 14],\n",
    "                  [15, 16, 17, 18, 19]])\n",
    "\n",
    "t3 = tf.constant([[[1, 3, 5, 7],\n",
    "                   [9, 11, 13, 15]],\n",
    "                  [[17, 19, 21, 23],\n",
    "                   [25, 27, 29, 31]]\n",
    "                  ])\n",
    "```\n",
    "\n",
    "* **출력형식**\n",
    "\n",
    "t1 tf.Tensor([1 2 3], shape=(3,), dtype=int32)\n",
    "\n",
    "t2 tf.Tensor( [[ 1 2] [ 6 7] [11 12]], shape=(3, 2), dtype=int32)\n",
    "\n",
    "t3 tf.Tensor([[[25 27]]], shape=(1, 1, 2), dtype=int32)\n",
    "\n",
    "---"
   ],
   "metadata": {
    "id": "2j3Q1IhaBf_e"
   }
  },
  {
   "cell_type": "code",
   "source": [
    "t1 = tf.constant([0, 1, 2, 3, 4, 5, 6, 7])\n",
    "\n",
    "t2 = tf.constant([[0, 1, 2, 3, 4],\n",
    "                  [5, 6, 7, 8, 9],\n",
    "                  [10, 11, 12, 13, 14],\n",
    "                  [15, 16, 17, 18, 19]])\n",
    "\n",
    "t3 = tf.constant([\n",
    "                    [\n",
    "                        [1, 3, 5, 7],\n",
    "                        [9, 11, 13, 15]\n",
    "                    ],\n",
    "                    [\n",
    "                        [17, 19, 21, 23],\n",
    "                        [25, 27, 29, 31]\n",
    "                    ]\n",
    "                  ])\n",
    "\n",
    "print('t1', t1[1:4])\n",
    "print('t2', t2[:3, 1:3])\n",
    "print(t3[1:2, 1:2, 0:2])\n"
   ],
   "metadata": {
    "id": "Bu1D4Zq3Bjnw",
    "ExecuteTime": {
     "start_time": "2023-04-21T22:00:17.643842Z",
     "end_time": "2023-04-21T22:00:17.659703Z"
    }
   },
   "execution_count": 7,
   "outputs": [
    {
     "name": "stdout",
     "output_type": "stream",
     "text": [
      "t1 tf.Tensor([1 2 3], shape=(3,), dtype=int32)\n",
      "t2 tf.Tensor(\n",
      "[[ 1  2]\n",
      " [ 6  7]\n",
      " [11 12]], shape=(3, 2), dtype=int32)\n",
      "tf.Tensor([[[25 27]]], shape=(1, 1, 2), dtype=int32)\n",
      "[<tf.Tensor: shape=(2, 2, 4), dtype=int32, numpy=\n",
      "array([[[ 1,  3,  5,  7],\n",
      "        [ 9, 11, 13, 15]],\n",
      "\n",
      "       [[17, 19, 21, 23],\n",
      "        [25, 27, 29, 31]]])>]\n"
     ]
    }
   ]
  },
  {
   "cell_type": "markdown",
   "source": [
    "## 문제 4\n",
    "---\n",
    "shape 이 3 x 16 x 16 인 tensor를 생성하시오.\n",
    "\n",
    "단, 값은 모두 1로 설정하시오.\n",
    "\n",
    "* **출력형식**\n",
    "\n",
    "\n",
    "<tf.Tensor: shape=(3, 16, 16), dtype=float32, numpy=생략>\n",
    "\n",
    "---"
   ],
   "metadata": {
    "id": "tx-xRRRVk8QV"
   }
  },
  {
   "cell_type": "code",
   "source": [
    "tf.ones(shape=(3, 16, 16))"
   ],
   "metadata": {
    "id": "ikBWtBc-kckM",
    "ExecuteTime": {
     "start_time": "2023-04-21T22:01:40.433013Z",
     "end_time": "2023-04-21T22:01:40.464401Z"
    }
   },
   "execution_count": 8,
   "outputs": [
    {
     "data": {
      "text/plain": "<tf.Tensor: shape=(3, 16, 16), dtype=float32, numpy=\narray([[[1., 1., 1., 1., 1., 1., 1., 1., 1., 1., 1., 1., 1., 1., 1., 1.],\n        [1., 1., 1., 1., 1., 1., 1., 1., 1., 1., 1., 1., 1., 1., 1., 1.],\n        [1., 1., 1., 1., 1., 1., 1., 1., 1., 1., 1., 1., 1., 1., 1., 1.],\n        [1., 1., 1., 1., 1., 1., 1., 1., 1., 1., 1., 1., 1., 1., 1., 1.],\n        [1., 1., 1., 1., 1., 1., 1., 1., 1., 1., 1., 1., 1., 1., 1., 1.],\n        [1., 1., 1., 1., 1., 1., 1., 1., 1., 1., 1., 1., 1., 1., 1., 1.],\n        [1., 1., 1., 1., 1., 1., 1., 1., 1., 1., 1., 1., 1., 1., 1., 1.],\n        [1., 1., 1., 1., 1., 1., 1., 1., 1., 1., 1., 1., 1., 1., 1., 1.],\n        [1., 1., 1., 1., 1., 1., 1., 1., 1., 1., 1., 1., 1., 1., 1., 1.],\n        [1., 1., 1., 1., 1., 1., 1., 1., 1., 1., 1., 1., 1., 1., 1., 1.],\n        [1., 1., 1., 1., 1., 1., 1., 1., 1., 1., 1., 1., 1., 1., 1., 1.],\n        [1., 1., 1., 1., 1., 1., 1., 1., 1., 1., 1., 1., 1., 1., 1., 1.],\n        [1., 1., 1., 1., 1., 1., 1., 1., 1., 1., 1., 1., 1., 1., 1., 1.],\n        [1., 1., 1., 1., 1., 1., 1., 1., 1., 1., 1., 1., 1., 1., 1., 1.],\n        [1., 1., 1., 1., 1., 1., 1., 1., 1., 1., 1., 1., 1., 1., 1., 1.],\n        [1., 1., 1., 1., 1., 1., 1., 1., 1., 1., 1., 1., 1., 1., 1., 1.]],\n\n       [[1., 1., 1., 1., 1., 1., 1., 1., 1., 1., 1., 1., 1., 1., 1., 1.],\n        [1., 1., 1., 1., 1., 1., 1., 1., 1., 1., 1., 1., 1., 1., 1., 1.],\n        [1., 1., 1., 1., 1., 1., 1., 1., 1., 1., 1., 1., 1., 1., 1., 1.],\n        [1., 1., 1., 1., 1., 1., 1., 1., 1., 1., 1., 1., 1., 1., 1., 1.],\n        [1., 1., 1., 1., 1., 1., 1., 1., 1., 1., 1., 1., 1., 1., 1., 1.],\n        [1., 1., 1., 1., 1., 1., 1., 1., 1., 1., 1., 1., 1., 1., 1., 1.],\n        [1., 1., 1., 1., 1., 1., 1., 1., 1., 1., 1., 1., 1., 1., 1., 1.],\n        [1., 1., 1., 1., 1., 1., 1., 1., 1., 1., 1., 1., 1., 1., 1., 1.],\n        [1., 1., 1., 1., 1., 1., 1., 1., 1., 1., 1., 1., 1., 1., 1., 1.],\n        [1., 1., 1., 1., 1., 1., 1., 1., 1., 1., 1., 1., 1., 1., 1., 1.],\n        [1., 1., 1., 1., 1., 1., 1., 1., 1., 1., 1., 1., 1., 1., 1., 1.],\n        [1., 1., 1., 1., 1., 1., 1., 1., 1., 1., 1., 1., 1., 1., 1., 1.],\n        [1., 1., 1., 1., 1., 1., 1., 1., 1., 1., 1., 1., 1., 1., 1., 1.],\n        [1., 1., 1., 1., 1., 1., 1., 1., 1., 1., 1., 1., 1., 1., 1., 1.],\n        [1., 1., 1., 1., 1., 1., 1., 1., 1., 1., 1., 1., 1., 1., 1., 1.],\n        [1., 1., 1., 1., 1., 1., 1., 1., 1., 1., 1., 1., 1., 1., 1., 1.]],\n\n       [[1., 1., 1., 1., 1., 1., 1., 1., 1., 1., 1., 1., 1., 1., 1., 1.],\n        [1., 1., 1., 1., 1., 1., 1., 1., 1., 1., 1., 1., 1., 1., 1., 1.],\n        [1., 1., 1., 1., 1., 1., 1., 1., 1., 1., 1., 1., 1., 1., 1., 1.],\n        [1., 1., 1., 1., 1., 1., 1., 1., 1., 1., 1., 1., 1., 1., 1., 1.],\n        [1., 1., 1., 1., 1., 1., 1., 1., 1., 1., 1., 1., 1., 1., 1., 1.],\n        [1., 1., 1., 1., 1., 1., 1., 1., 1., 1., 1., 1., 1., 1., 1., 1.],\n        [1., 1., 1., 1., 1., 1., 1., 1., 1., 1., 1., 1., 1., 1., 1., 1.],\n        [1., 1., 1., 1., 1., 1., 1., 1., 1., 1., 1., 1., 1., 1., 1., 1.],\n        [1., 1., 1., 1., 1., 1., 1., 1., 1., 1., 1., 1., 1., 1., 1., 1.],\n        [1., 1., 1., 1., 1., 1., 1., 1., 1., 1., 1., 1., 1., 1., 1., 1.],\n        [1., 1., 1., 1., 1., 1., 1., 1., 1., 1., 1., 1., 1., 1., 1., 1.],\n        [1., 1., 1., 1., 1., 1., 1., 1., 1., 1., 1., 1., 1., 1., 1., 1.],\n        [1., 1., 1., 1., 1., 1., 1., 1., 1., 1., 1., 1., 1., 1., 1., 1.],\n        [1., 1., 1., 1., 1., 1., 1., 1., 1., 1., 1., 1., 1., 1., 1., 1.],\n        [1., 1., 1., 1., 1., 1., 1., 1., 1., 1., 1., 1., 1., 1., 1., 1.],\n        [1., 1., 1., 1., 1., 1., 1., 1., 1., 1., 1., 1., 1., 1., 1., 1.]]],\n      dtype=float32)>"
     },
     "execution_count": 8,
     "metadata": {},
     "output_type": "execute_result"
    }
   ]
  },
  {
   "cell_type": "markdown",
   "source": [
    "## 문제 5\n",
    "---\n",
    "shape 이 3 x 16 x 16 인 tensor를 3개 생성하시오.\n",
    "\n",
    "* 첫 번째 tensor는 값이 모두 0 \n",
    "* 두 번째 tensor는 값이 모두 1\n",
    "* 세 번째 tensor는 값이 모두 2\n",
    "\n",
    "단, 3개의 tensors를 하나의 tensor 에 저장하시오.\n",
    "\n",
    "* **출력형식**\n",
    "\n",
    "<tf.Tensor: shape=(3, 3, 16, 16), dtype=float32, numpy=생략>"
   ],
   "metadata": {
    "id": "Xs3noXsMl0jo"
   }
  },
  {
   "cell_type": "code",
   "source": [
    "t1 = tf.zeros(shape=(3, 16, 16))\n",
    "t2 = tf.ones(shape=(3, 16, 16))\n",
    "t3 = 1 + tf.ones(shape=(3, 16, 16))\n",
    "\n",
    "print('t1', t1)\n",
    "print('t2', t2)\n",
    "print('t3', t3)\n",
    "\n",
    "tf.stack([t1, t2, t3], axis=0).shape"
   ],
   "metadata": {
    "id": "esB5XNFom7gD",
    "ExecuteTime": {
     "start_time": "2023-04-21T22:04:06.494355Z",
     "end_time": "2023-04-21T22:04:06.562321Z"
    }
   },
   "execution_count": 10,
   "outputs": [
    {
     "name": "stdout",
     "output_type": "stream",
     "text": [
      "t1 tf.Tensor(\n",
      "[[[0. 0. 0. 0. 0. 0. 0. 0. 0. 0. 0. 0. 0. 0. 0. 0.]\n",
      "  [0. 0. 0. 0. 0. 0. 0. 0. 0. 0. 0. 0. 0. 0. 0. 0.]\n",
      "  [0. 0. 0. 0. 0. 0. 0. 0. 0. 0. 0. 0. 0. 0. 0. 0.]\n",
      "  [0. 0. 0. 0. 0. 0. 0. 0. 0. 0. 0. 0. 0. 0. 0. 0.]\n",
      "  [0. 0. 0. 0. 0. 0. 0. 0. 0. 0. 0. 0. 0. 0. 0. 0.]\n",
      "  [0. 0. 0. 0. 0. 0. 0. 0. 0. 0. 0. 0. 0. 0. 0. 0.]\n",
      "  [0. 0. 0. 0. 0. 0. 0. 0. 0. 0. 0. 0. 0. 0. 0. 0.]\n",
      "  [0. 0. 0. 0. 0. 0. 0. 0. 0. 0. 0. 0. 0. 0. 0. 0.]\n",
      "  [0. 0. 0. 0. 0. 0. 0. 0. 0. 0. 0. 0. 0. 0. 0. 0.]\n",
      "  [0. 0. 0. 0. 0. 0. 0. 0. 0. 0. 0. 0. 0. 0. 0. 0.]\n",
      "  [0. 0. 0. 0. 0. 0. 0. 0. 0. 0. 0. 0. 0. 0. 0. 0.]\n",
      "  [0. 0. 0. 0. 0. 0. 0. 0. 0. 0. 0. 0. 0. 0. 0. 0.]\n",
      "  [0. 0. 0. 0. 0. 0. 0. 0. 0. 0. 0. 0. 0. 0. 0. 0.]\n",
      "  [0. 0. 0. 0. 0. 0. 0. 0. 0. 0. 0. 0. 0. 0. 0. 0.]\n",
      "  [0. 0. 0. 0. 0. 0. 0. 0. 0. 0. 0. 0. 0. 0. 0. 0.]\n",
      "  [0. 0. 0. 0. 0. 0. 0. 0. 0. 0. 0. 0. 0. 0. 0. 0.]]\n",
      "\n",
      " [[0. 0. 0. 0. 0. 0. 0. 0. 0. 0. 0. 0. 0. 0. 0. 0.]\n",
      "  [0. 0. 0. 0. 0. 0. 0. 0. 0. 0. 0. 0. 0. 0. 0. 0.]\n",
      "  [0. 0. 0. 0. 0. 0. 0. 0. 0. 0. 0. 0. 0. 0. 0. 0.]\n",
      "  [0. 0. 0. 0. 0. 0. 0. 0. 0. 0. 0. 0. 0. 0. 0. 0.]\n",
      "  [0. 0. 0. 0. 0. 0. 0. 0. 0. 0. 0. 0. 0. 0. 0. 0.]\n",
      "  [0. 0. 0. 0. 0. 0. 0. 0. 0. 0. 0. 0. 0. 0. 0. 0.]\n",
      "  [0. 0. 0. 0. 0. 0. 0. 0. 0. 0. 0. 0. 0. 0. 0. 0.]\n",
      "  [0. 0. 0. 0. 0. 0. 0. 0. 0. 0. 0. 0. 0. 0. 0. 0.]\n",
      "  [0. 0. 0. 0. 0. 0. 0. 0. 0. 0. 0. 0. 0. 0. 0. 0.]\n",
      "  [0. 0. 0. 0. 0. 0. 0. 0. 0. 0. 0. 0. 0. 0. 0. 0.]\n",
      "  [0. 0. 0. 0. 0. 0. 0. 0. 0. 0. 0. 0. 0. 0. 0. 0.]\n",
      "  [0. 0. 0. 0. 0. 0. 0. 0. 0. 0. 0. 0. 0. 0. 0. 0.]\n",
      "  [0. 0. 0. 0. 0. 0. 0. 0. 0. 0. 0. 0. 0. 0. 0. 0.]\n",
      "  [0. 0. 0. 0. 0. 0. 0. 0. 0. 0. 0. 0. 0. 0. 0. 0.]\n",
      "  [0. 0. 0. 0. 0. 0. 0. 0. 0. 0. 0. 0. 0. 0. 0. 0.]\n",
      "  [0. 0. 0. 0. 0. 0. 0. 0. 0. 0. 0. 0. 0. 0. 0. 0.]]\n",
      "\n",
      " [[0. 0. 0. 0. 0. 0. 0. 0. 0. 0. 0. 0. 0. 0. 0. 0.]\n",
      "  [0. 0. 0. 0. 0. 0. 0. 0. 0. 0. 0. 0. 0. 0. 0. 0.]\n",
      "  [0. 0. 0. 0. 0. 0. 0. 0. 0. 0. 0. 0. 0. 0. 0. 0.]\n",
      "  [0. 0. 0. 0. 0. 0. 0. 0. 0. 0. 0. 0. 0. 0. 0. 0.]\n",
      "  [0. 0. 0. 0. 0. 0. 0. 0. 0. 0. 0. 0. 0. 0. 0. 0.]\n",
      "  [0. 0. 0. 0. 0. 0. 0. 0. 0. 0. 0. 0. 0. 0. 0. 0.]\n",
      "  [0. 0. 0. 0. 0. 0. 0. 0. 0. 0. 0. 0. 0. 0. 0. 0.]\n",
      "  [0. 0. 0. 0. 0. 0. 0. 0. 0. 0. 0. 0. 0. 0. 0. 0.]\n",
      "  [0. 0. 0. 0. 0. 0. 0. 0. 0. 0. 0. 0. 0. 0. 0. 0.]\n",
      "  [0. 0. 0. 0. 0. 0. 0. 0. 0. 0. 0. 0. 0. 0. 0. 0.]\n",
      "  [0. 0. 0. 0. 0. 0. 0. 0. 0. 0. 0. 0. 0. 0. 0. 0.]\n",
      "  [0. 0. 0. 0. 0. 0. 0. 0. 0. 0. 0. 0. 0. 0. 0. 0.]\n",
      "  [0. 0. 0. 0. 0. 0. 0. 0. 0. 0. 0. 0. 0. 0. 0. 0.]\n",
      "  [0. 0. 0. 0. 0. 0. 0. 0. 0. 0. 0. 0. 0. 0. 0. 0.]\n",
      "  [0. 0. 0. 0. 0. 0. 0. 0. 0. 0. 0. 0. 0. 0. 0. 0.]\n",
      "  [0. 0. 0. 0. 0. 0. 0. 0. 0. 0. 0. 0. 0. 0. 0. 0.]]], shape=(3, 16, 16), dtype=float32)\n",
      "t2 tf.Tensor(\n",
      "[[[1. 1. 1. 1. 1. 1. 1. 1. 1. 1. 1. 1. 1. 1. 1. 1.]\n",
      "  [1. 1. 1. 1. 1. 1. 1. 1. 1. 1. 1. 1. 1. 1. 1. 1.]\n",
      "  [1. 1. 1. 1. 1. 1. 1. 1. 1. 1. 1. 1. 1. 1. 1. 1.]\n",
      "  [1. 1. 1. 1. 1. 1. 1. 1. 1. 1. 1. 1. 1. 1. 1. 1.]\n",
      "  [1. 1. 1. 1. 1. 1. 1. 1. 1. 1. 1. 1. 1. 1. 1. 1.]\n",
      "  [1. 1. 1. 1. 1. 1. 1. 1. 1. 1. 1. 1. 1. 1. 1. 1.]\n",
      "  [1. 1. 1. 1. 1. 1. 1. 1. 1. 1. 1. 1. 1. 1. 1. 1.]\n",
      "  [1. 1. 1. 1. 1. 1. 1. 1. 1. 1. 1. 1. 1. 1. 1. 1.]\n",
      "  [1. 1. 1. 1. 1. 1. 1. 1. 1. 1. 1. 1. 1. 1. 1. 1.]\n",
      "  [1. 1. 1. 1. 1. 1. 1. 1. 1. 1. 1. 1. 1. 1. 1. 1.]\n",
      "  [1. 1. 1. 1. 1. 1. 1. 1. 1. 1. 1. 1. 1. 1. 1. 1.]\n",
      "  [1. 1. 1. 1. 1. 1. 1. 1. 1. 1. 1. 1. 1. 1. 1. 1.]\n",
      "  [1. 1. 1. 1. 1. 1. 1. 1. 1. 1. 1. 1. 1. 1. 1. 1.]\n",
      "  [1. 1. 1. 1. 1. 1. 1. 1. 1. 1. 1. 1. 1. 1. 1. 1.]\n",
      "  [1. 1. 1. 1. 1. 1. 1. 1. 1. 1. 1. 1. 1. 1. 1. 1.]\n",
      "  [1. 1. 1. 1. 1. 1. 1. 1. 1. 1. 1. 1. 1. 1. 1. 1.]]\n",
      "\n",
      " [[1. 1. 1. 1. 1. 1. 1. 1. 1. 1. 1. 1. 1. 1. 1. 1.]\n",
      "  [1. 1. 1. 1. 1. 1. 1. 1. 1. 1. 1. 1. 1. 1. 1. 1.]\n",
      "  [1. 1. 1. 1. 1. 1. 1. 1. 1. 1. 1. 1. 1. 1. 1. 1.]\n",
      "  [1. 1. 1. 1. 1. 1. 1. 1. 1. 1. 1. 1. 1. 1. 1. 1.]\n",
      "  [1. 1. 1. 1. 1. 1. 1. 1. 1. 1. 1. 1. 1. 1. 1. 1.]\n",
      "  [1. 1. 1. 1. 1. 1. 1. 1. 1. 1. 1. 1. 1. 1. 1. 1.]\n",
      "  [1. 1. 1. 1. 1. 1. 1. 1. 1. 1. 1. 1. 1. 1. 1. 1.]\n",
      "  [1. 1. 1. 1. 1. 1. 1. 1. 1. 1. 1. 1. 1. 1. 1. 1.]\n",
      "  [1. 1. 1. 1. 1. 1. 1. 1. 1. 1. 1. 1. 1. 1. 1. 1.]\n",
      "  [1. 1. 1. 1. 1. 1. 1. 1. 1. 1. 1. 1. 1. 1. 1. 1.]\n",
      "  [1. 1. 1. 1. 1. 1. 1. 1. 1. 1. 1. 1. 1. 1. 1. 1.]\n",
      "  [1. 1. 1. 1. 1. 1. 1. 1. 1. 1. 1. 1. 1. 1. 1. 1.]\n",
      "  [1. 1. 1. 1. 1. 1. 1. 1. 1. 1. 1. 1. 1. 1. 1. 1.]\n",
      "  [1. 1. 1. 1. 1. 1. 1. 1. 1. 1. 1. 1. 1. 1. 1. 1.]\n",
      "  [1. 1. 1. 1. 1. 1. 1. 1. 1. 1. 1. 1. 1. 1. 1. 1.]\n",
      "  [1. 1. 1. 1. 1. 1. 1. 1. 1. 1. 1. 1. 1. 1. 1. 1.]]\n",
      "\n",
      " [[1. 1. 1. 1. 1. 1. 1. 1. 1. 1. 1. 1. 1. 1. 1. 1.]\n",
      "  [1. 1. 1. 1. 1. 1. 1. 1. 1. 1. 1. 1. 1. 1. 1. 1.]\n",
      "  [1. 1. 1. 1. 1. 1. 1. 1. 1. 1. 1. 1. 1. 1. 1. 1.]\n",
      "  [1. 1. 1. 1. 1. 1. 1. 1. 1. 1. 1. 1. 1. 1. 1. 1.]\n",
      "  [1. 1. 1. 1. 1. 1. 1. 1. 1. 1. 1. 1. 1. 1. 1. 1.]\n",
      "  [1. 1. 1. 1. 1. 1. 1. 1. 1. 1. 1. 1. 1. 1. 1. 1.]\n",
      "  [1. 1. 1. 1. 1. 1. 1. 1. 1. 1. 1. 1. 1. 1. 1. 1.]\n",
      "  [1. 1. 1. 1. 1. 1. 1. 1. 1. 1. 1. 1. 1. 1. 1. 1.]\n",
      "  [1. 1. 1. 1. 1. 1. 1. 1. 1. 1. 1. 1. 1. 1. 1. 1.]\n",
      "  [1. 1. 1. 1. 1. 1. 1. 1. 1. 1. 1. 1. 1. 1. 1. 1.]\n",
      "  [1. 1. 1. 1. 1. 1. 1. 1. 1. 1. 1. 1. 1. 1. 1. 1.]\n",
      "  [1. 1. 1. 1. 1. 1. 1. 1. 1. 1. 1. 1. 1. 1. 1. 1.]\n",
      "  [1. 1. 1. 1. 1. 1. 1. 1. 1. 1. 1. 1. 1. 1. 1. 1.]\n",
      "  [1. 1. 1. 1. 1. 1. 1. 1. 1. 1. 1. 1. 1. 1. 1. 1.]\n",
      "  [1. 1. 1. 1. 1. 1. 1. 1. 1. 1. 1. 1. 1. 1. 1. 1.]\n",
      "  [1. 1. 1. 1. 1. 1. 1. 1. 1. 1. 1. 1. 1. 1. 1. 1.]]], shape=(3, 16, 16), dtype=float32)\n",
      "t3 tf.Tensor(\n",
      "[[[2. 2. 2. 2. 2. 2. 2. 2. 2. 2. 2. 2. 2. 2. 2. 2.]\n",
      "  [2. 2. 2. 2. 2. 2. 2. 2. 2. 2. 2. 2. 2. 2. 2. 2.]\n",
      "  [2. 2. 2. 2. 2. 2. 2. 2. 2. 2. 2. 2. 2. 2. 2. 2.]\n",
      "  [2. 2. 2. 2. 2. 2. 2. 2. 2. 2. 2. 2. 2. 2. 2. 2.]\n",
      "  [2. 2. 2. 2. 2. 2. 2. 2. 2. 2. 2. 2. 2. 2. 2. 2.]\n",
      "  [2. 2. 2. 2. 2. 2. 2. 2. 2. 2. 2. 2. 2. 2. 2. 2.]\n",
      "  [2. 2. 2. 2. 2. 2. 2. 2. 2. 2. 2. 2. 2. 2. 2. 2.]\n",
      "  [2. 2. 2. 2. 2. 2. 2. 2. 2. 2. 2. 2. 2. 2. 2. 2.]\n",
      "  [2. 2. 2. 2. 2. 2. 2. 2. 2. 2. 2. 2. 2. 2. 2. 2.]\n",
      "  [2. 2. 2. 2. 2. 2. 2. 2. 2. 2. 2. 2. 2. 2. 2. 2.]\n",
      "  [2. 2. 2. 2. 2. 2. 2. 2. 2. 2. 2. 2. 2. 2. 2. 2.]\n",
      "  [2. 2. 2. 2. 2. 2. 2. 2. 2. 2. 2. 2. 2. 2. 2. 2.]\n",
      "  [2. 2. 2. 2. 2. 2. 2. 2. 2. 2. 2. 2. 2. 2. 2. 2.]\n",
      "  [2. 2. 2. 2. 2. 2. 2. 2. 2. 2. 2. 2. 2. 2. 2. 2.]\n",
      "  [2. 2. 2. 2. 2. 2. 2. 2. 2. 2. 2. 2. 2. 2. 2. 2.]\n",
      "  [2. 2. 2. 2. 2. 2. 2. 2. 2. 2. 2. 2. 2. 2. 2. 2.]]\n",
      "\n",
      " [[2. 2. 2. 2. 2. 2. 2. 2. 2. 2. 2. 2. 2. 2. 2. 2.]\n",
      "  [2. 2. 2. 2. 2. 2. 2. 2. 2. 2. 2. 2. 2. 2. 2. 2.]\n",
      "  [2. 2. 2. 2. 2. 2. 2. 2. 2. 2. 2. 2. 2. 2. 2. 2.]\n",
      "  [2. 2. 2. 2. 2. 2. 2. 2. 2. 2. 2. 2. 2. 2. 2. 2.]\n",
      "  [2. 2. 2. 2. 2. 2. 2. 2. 2. 2. 2. 2. 2. 2. 2. 2.]\n",
      "  [2. 2. 2. 2. 2. 2. 2. 2. 2. 2. 2. 2. 2. 2. 2. 2.]\n",
      "  [2. 2. 2. 2. 2. 2. 2. 2. 2. 2. 2. 2. 2. 2. 2. 2.]\n",
      "  [2. 2. 2. 2. 2. 2. 2. 2. 2. 2. 2. 2. 2. 2. 2. 2.]\n",
      "  [2. 2. 2. 2. 2. 2. 2. 2. 2. 2. 2. 2. 2. 2. 2. 2.]\n",
      "  [2. 2. 2. 2. 2. 2. 2. 2. 2. 2. 2. 2. 2. 2. 2. 2.]\n",
      "  [2. 2. 2. 2. 2. 2. 2. 2. 2. 2. 2. 2. 2. 2. 2. 2.]\n",
      "  [2. 2. 2. 2. 2. 2. 2. 2. 2. 2. 2. 2. 2. 2. 2. 2.]\n",
      "  [2. 2. 2. 2. 2. 2. 2. 2. 2. 2. 2. 2. 2. 2. 2. 2.]\n",
      "  [2. 2. 2. 2. 2. 2. 2. 2. 2. 2. 2. 2. 2. 2. 2. 2.]\n",
      "  [2. 2. 2. 2. 2. 2. 2. 2. 2. 2. 2. 2. 2. 2. 2. 2.]\n",
      "  [2. 2. 2. 2. 2. 2. 2. 2. 2. 2. 2. 2. 2. 2. 2. 2.]]\n",
      "\n",
      " [[2. 2. 2. 2. 2. 2. 2. 2. 2. 2. 2. 2. 2. 2. 2. 2.]\n",
      "  [2. 2. 2. 2. 2. 2. 2. 2. 2. 2. 2. 2. 2. 2. 2. 2.]\n",
      "  [2. 2. 2. 2. 2. 2. 2. 2. 2. 2. 2. 2. 2. 2. 2. 2.]\n",
      "  [2. 2. 2. 2. 2. 2. 2. 2. 2. 2. 2. 2. 2. 2. 2. 2.]\n",
      "  [2. 2. 2. 2. 2. 2. 2. 2. 2. 2. 2. 2. 2. 2. 2. 2.]\n",
      "  [2. 2. 2. 2. 2. 2. 2. 2. 2. 2. 2. 2. 2. 2. 2. 2.]\n",
      "  [2. 2. 2. 2. 2. 2. 2. 2. 2. 2. 2. 2. 2. 2. 2. 2.]\n",
      "  [2. 2. 2. 2. 2. 2. 2. 2. 2. 2. 2. 2. 2. 2. 2. 2.]\n",
      "  [2. 2. 2. 2. 2. 2. 2. 2. 2. 2. 2. 2. 2. 2. 2. 2.]\n",
      "  [2. 2. 2. 2. 2. 2. 2. 2. 2. 2. 2. 2. 2. 2. 2. 2.]\n",
      "  [2. 2. 2. 2. 2. 2. 2. 2. 2. 2. 2. 2. 2. 2. 2. 2.]\n",
      "  [2. 2. 2. 2. 2. 2. 2. 2. 2. 2. 2. 2. 2. 2. 2. 2.]\n",
      "  [2. 2. 2. 2. 2. 2. 2. 2. 2. 2. 2. 2. 2. 2. 2. 2.]\n",
      "  [2. 2. 2. 2. 2. 2. 2. 2. 2. 2. 2. 2. 2. 2. 2. 2.]\n",
      "  [2. 2. 2. 2. 2. 2. 2. 2. 2. 2. 2. 2. 2. 2. 2. 2.]\n",
      "  [2. 2. 2. 2. 2. 2. 2. 2. 2. 2. 2. 2. 2. 2. 2. 2.]]], shape=(3, 16, 16), dtype=float32)\n"
     ]
    },
    {
     "data": {
      "text/plain": "TensorShape([3, 3, 16, 16])"
     },
     "execution_count": 10,
     "metadata": {},
     "output_type": "execute_result"
    }
   ]
  },
  {
   "cell_type": "markdown",
   "source": [
    "## 문제 6\n",
    "---\n",
    "shape 이 3 x 16 x 16 인 tensor (dtype=int32) 를 8개 생성하시오.\n",
    "\n",
    "* tensor의 값은 0~255 범위의 random 정수값\n",
    "\n",
    "단, 8개의 tensors를 하나의 tensor 에 저장하시오.\n",
    "\n",
    "* **출력형식**\n",
    "\n",
    "<tf.Tensor: shape=(8, 3, 16, 16), dtype=int32, numpy=생략>"
   ],
   "metadata": {
    "id": "-d-iyaDToaSS"
   }
  },
  {
   "cell_type": "code",
   "source": [
    "t1 = tf.random.uniform(shape=(8, 3, 16, 16), minval=0, maxval=255, dtype=tf.int32)\n",
    "t1"
   ],
   "metadata": {
    "id": "qaVSPqBvfktL",
    "ExecuteTime": {
     "start_time": "2023-04-21T22:05:44.591098Z",
     "end_time": "2023-04-21T22:05:44.606812Z"
    }
   },
   "execution_count": 11,
   "outputs": [
    {
     "data": {
      "text/plain": "<tf.Tensor: shape=(8, 3, 16, 16), dtype=int32, numpy=\narray([[[[ 78, 221, 101, ..., 166, 105, 205],\n         [250,   8, 218, ...,  10,  59, 136],\n         [  3,  71, 235, ...,  34, 162, 230],\n         ...,\n         [249, 197, 158, ...,  97, 198, 202],\n         [ 42,  14, 253, ..., 121,  43, 160],\n         [110,  55, 208, ..., 244, 206, 228]],\n\n        [[ 50,  35, 108, ..., 250, 243, 105],\n         [173,  27, 232, ..., 208,  91,  84],\n         [ 94,  37, 170, ..., 233, 140, 173],\n         ...,\n         [123,  14,  21, ..., 231, 164, 148],\n         [ 18,  92, 155, ..., 197, 171,  42],\n         [211, 185, 234, ..., 148, 177, 252]],\n\n        [[203, 249, 134, ..., 171,  50, 122],\n         [118,  89, 166, ...,  98, 188, 136],\n         [140, 169, 253, ..., 152, 167, 208],\n         ...,\n         [215,  36,  51, ..., 164,  52,  70],\n         [121,  59,  33, ..., 239, 202, 237],\n         [109, 157,  98, ..., 234, 168, 150]]],\n\n\n       [[[155,  19,  85, ..., 243, 237,   7],\n         [203,  12, 202, ..., 217, 165,  89],\n         [113, 159, 128, ..., 209,  27,  94],\n         ...,\n         [  7, 213, 171, ..., 107,  39, 150],\n         [184, 164, 189, ..., 130,  43, 228],\n         [221, 146, 165, ..., 108, 166, 190]],\n\n        [[ 57, 179,  84, ...,  61, 118, 127],\n         [123,  41,   3, ...,  16, 234, 120],\n         [177,  44,  42, ...,  10, 114,  93],\n         ...,\n         [157, 145,  81, ..., 134, 133, 208],\n         [251,  29, 167, ...,  45,  86, 225],\n         [195,  18,   9, ..., 101, 232,  18]],\n\n        [[170,  85,   8, ...,  20, 221,  82],\n         [217,  47, 138, ...,   4,  47,  47],\n         [243,  30, 108, ..., 181, 130,  27],\n         ...,\n         [171, 235,  12, ..., 172,  86,  28],\n         [ 20, 208, 168, ...,  51,  33,  63],\n         [107, 210, 191, ...,  11,  26, 180]]],\n\n\n       [[[ 38, 236, 222, ..., 238,  23, 235],\n         [116,  50, 214, ...,  79,   3, 165],\n         [238,  56, 192, ..., 146, 171,  46],\n         ...,\n         [ 87, 233, 115, ..., 197,  11, 112],\n         [ 38, 164,  89, ...,  94, 102,  51],\n         [152, 124, 125, ..., 243, 130, 129]],\n\n        [[ 89,  20,  70, ...,  87, 102, 182],\n         [156,  84, 143, ..., 195, 251,  87],\n         [132, 223,  60, ..., 170, 210,  35],\n         ...,\n         [ 89,  94,  29, ..., 114, 190, 246],\n         [173, 188, 194, ...,  56,  98, 253],\n         [ 94, 180,  37, ...,  51, 137, 184]],\n\n        [[218,  18, 202, ...,  73,  49, 114],\n         [198, 215, 241, ..., 193, 165, 173],\n         [ 62, 219, 182, ..., 205,  80,  12],\n         ...,\n         [ 79,  12,  51, ..., 237, 149,  46],\n         [ 99,  96,   3, ..., 225,  60, 143],\n         [ 89,  17,  21, ..., 115,  22, 101]]],\n\n\n       ...,\n\n\n       [[[168,  38,  25, ..., 118, 115,  49],\n         [211, 234,  81, ..., 121,  45,  60],\n         [146, 246, 250, ..., 198, 133, 195],\n         ...,\n         [ 61, 136, 251, ..., 251, 217, 162],\n         [136, 236,  99, ...,  99, 253, 118],\n         [193,  76, 231, ...,  34,  98, 111]],\n\n        [[ 87,  36,   7, ...,  78,  95,   0],\n         [ 87, 107,   6, ..., 213, 231, 213],\n         [ 86, 191, 201, ..., 125,  86, 199],\n         ...,\n         [ 64, 129, 182, ..., 234, 176,  56],\n         [220, 145,  46, ..., 173, 142, 141],\n         [196, 151,  99, ..., 242,  79, 101]],\n\n        [[236,  26, 214, ..., 254,  39,  97],\n         [218, 209, 235, ..., 224, 162,  92],\n         [ 86, 252, 101, ...,  94,  68, 176],\n         ...,\n         [248,  69,   9, ..., 134, 224,  38],\n         [148, 202, 196, ...,  19,  46, 203],\n         [205, 142, 132, ..., 158, 214, 116]]],\n\n\n       [[[194, 190, 141, ..., 110, 106, 129],\n         [ 37, 172,  91, ...,  17,   9,  36],\n         [208, 166, 104, ...,  85, 158, 244],\n         ...,\n         [ 75, 241,   3, ...,  24, 164,  56],\n         [  1, 207, 106, ...,  94, 183, 138],\n         [206, 168, 206, ..., 179, 159, 102]],\n\n        [[ 12, 129, 179, ...,   3, 190,  29],\n         [ 87, 213,  87, ...,  99,  40, 210],\n         [  4,  86, 103, ..., 177, 145, 219],\n         ...,\n         [200, 109,  79, ...,  63,  73,  65],\n         [ 53, 178, 209, ..., 131,   7,  77],\n         [161, 139,  91, ..., 135,  27,  36]],\n\n        [[137,  23,  82, ...,  39,  37, 108],\n         [146, 252,  52, ..., 199, 205,  28],\n         [ 11, 243,  90, ..., 113, 253, 194],\n         ...,\n         [ 21, 200, 187, ...,  32, 141, 149],\n         [204, 128,   2, ...,  19,   4, 253],\n         [ 48, 105,  55, ...,  32, 184,  39]]],\n\n\n       [[[ 96, 193, 141, ..., 152, 206, 175],\n         [ 51,  48,  33, ...,  76,  19, 112],\n         [ 45, 143, 171, ..., 238,  41,   7],\n         ...,\n         [ 53,  58, 104, ...,  88,  60, 166],\n         [ 18, 188, 117, ..., 123, 235, 107],\n         [165,  61, 154, ...,  89, 254, 160]],\n\n        [[148, 168, 189, ..., 173,  82,  69],\n         [204, 123,  69, ...,  94,  68,  21],\n         [ 28, 224, 162, ..., 228, 197,  39],\n         ...,\n         [ 25,  47, 230, ..., 152,  25, 134],\n         [ 46, 218, 136, ..., 157, 200,  42],\n         [230, 137, 222, ..., 202,  19,  36]],\n\n        [[ 21,  41, 138, ...,  50, 205, 113],\n         [109, 209, 156, ..., 151, 173, 127],\n         [234, 150, 189, ..., 245, 247, 178],\n         ...,\n         [ 40, 251,  17, ..., 129, 254,  63],\n         [192,  99, 199, ..., 121, 215, 196],\n         [116,  82, 193, ...,  60,  71,  36]]]])>"
     },
     "execution_count": 11,
     "metadata": {},
     "output_type": "execute_result"
    }
   ]
  },
  {
   "cell_type": "code",
   "execution_count": 12,
   "outputs": [
    {
     "name": "stdout",
     "output_type": "stream",
     "text": [
      "x_range [0, 254]\n"
     ]
    },
    {
     "data": {
      "text/plain": "<Figure size 500x500 with 1 Axes>",
      "image/png": "[encoded data removed]"
     },
     "metadata": {},
     "output_type": "display_data"
    }
   ],
   "source": [
    "def show_hist_plot(x, x_range):\n",
    "    fig, ax = plt.subplots(figsize=(5, 5))\n",
    "    t = tf.reshape(x, [-1])\n",
    "    print('x_range', x_range)\n",
    "    ax.hist(t, range=x_range)\n",
    "\n",
    "show_hist_plot(t1, [tf.reduce_min(t1).numpy(), tf.reduce_max(t1).numpy()])"
   ],
   "metadata": {
    "collapsed": false,
    "ExecuteTime": {
     "start_time": "2023-04-21T22:22:17.113992Z",
     "end_time": "2023-04-21T22:22:18.157132Z"
    }
   }
  },
  {
   "cell_type": "markdown",
   "source": [
    "## 문제 7\n",
    "---\n",
    "shape 이 3 x 16 x 16 인 tensor (dtype=flaot32) 를 8개 생성하시오.\n",
    "\n",
    "* tensor의 값은 -1~1 범위의 random 실수값\n",
    "\n",
    "단, 8개의 tensors를 하나의 tensor 에 저장하시오.\n",
    "\n",
    "* **출력형식**\n",
    "\n",
    "<tf.Tensor: shape=(8, 3, 16, 16), dtype=int32, numpy=생략>"
   ],
   "metadata": {
    "id": "ELUuSllBetDn"
   }
  },
  {
   "cell_type": "code",
   "source": [
    "t1 = tf.random.normal(shape=(8, 3, 16, 16))\n",
    "print(tf.reduce_mean(t1))\n",
    "print(tf.math.reduce_std(t1))"
   ],
   "metadata": {
    "id": "P4DWueQmeubB",
    "ExecuteTime": {
     "start_time": "2023-04-21T22:34:09.688514Z",
     "end_time": "2023-04-21T22:34:09.704263Z"
    }
   },
   "execution_count": 14,
   "outputs": [
    {
     "name": "stdout",
     "output_type": "stream",
     "text": [
      "tf.Tensor(0.001090399, shape=(), dtype=float32)\n",
      "tf.Tensor(1.0109651, shape=(), dtype=float32)\n"
     ]
    }
   ]
  },
  {
   "cell_type": "code",
   "execution_count": 15,
   "outputs": [
    {
     "name": "stdout",
     "output_type": "stream",
     "text": [
      "x_range [-3.6852827, 3.9334874]\n"
     ]
    },
    {
     "data": {
      "text/plain": "<Figure size 500x500 with 1 Axes>",
      "image/png": "[encoded data removed]"
     },
     "metadata": {},
     "output_type": "display_data"
    }
   ],
   "source": [
    "show_hist_plot(t1, [tf.reduce_min(t1).numpy(), tf.reduce_max(t1).numpy()])"
   ],
   "metadata": {
    "collapsed": false,
    "ExecuteTime": {
     "start_time": "2023-04-21T22:39:43.376608Z",
     "end_time": "2023-04-21T22:39:44.486570Z"
    }
   }
  },
  {
   "cell_type": "markdown",
   "source": [
    "## 문제 8\n",
    "---\n",
    "주어진 MPG dataset을 이용하여 데이터를 분석하시오.\n",
    "\n",
    "* 결측값을 찾아 해당 컬럼의 평균값으로 대체\n",
    "* MPG, Cylinders, Horsepower, Weight 컬럼들의 합, 평균, 최솟값, 최댓값\n",
    "* Horsepower 가 가장 큰 데이터의 row 번호 (0부터 시작)\n",
    "* Horsepower 가 가장 큰 데이터 (하나임)\n",
    "\n",
    "```python\n",
    "#pip install -q seaborn\n",
    "import matplotlib.pyplot as plt\n",
    "import numpy as np\n",
    "import pandas as pd\n",
    "#import seaborn as sns\n",
    "\n",
    "# Make NumPy printouts easier to read.\n",
    "np.set_printoptions(precision=3, suppress=True)\n",
    "import tensorflow as tf\n",
    "\n",
    "url = 'http://archive.ics.uci.edu/ml/machine-learning-databases/auto-mpg/auto-mpg.data'\n",
    "column_names = ['MPG', 'Cylinders', 'Displacement', 'Horsepower', 'Weight',\n",
    "                'Acceleration', 'Model Year', 'Origin']\n",
    "\n",
    "raw_dataset = pd.read_csv(url, names=column_names,\n",
    "                          na_values='?', comment='\\t',\n",
    "                          sep=' ', skipinitialspace=True)\n",
    "raw_dataset.head()\n",
    "# 결측값 처리\n",
    "dataset = tf.Variable(raw_dataset)\n",
    "\n",
    "```"
   ],
   "metadata": {
    "id": "0oWkAdgtd5dJ"
   }
  },
  {
   "cell_type": "code",
   "source": [],
   "metadata": {
    "id": "Kxr2r0QVYtMW"
   },
   "execution_count": null,
   "outputs": []
  },
  {
   "cell_type": "markdown",
   "source": [
    "## 문제 9\n",
    "---\n",
    "주어진 이미지를 이용하여 다음 값을 계산하시오.\n",
    "\n",
    "* 각 채널(RGB) 별 이미지의 평균값 (3개)\n",
    "* 각 채널(RGB)을 평균값으로 병합 (이미지 한개)\n",
    "\n",
    "```python\n",
    "import tensorflow as tf\n",
    "\n",
    "(x_train, y_train), (x_test, y_test) = tf.keras.datasets.cifar10.load_data()\n",
    "print(x_train.shape)\n",
    "print(x_train[0,].shape)\n",
    "image = x_train[3,]\n",
    "\n",
    "fig, ax = plt.subplots(figsize=(5,5))\n",
    "ax.imshow(image)\n",
    "\n",
    "```"
   ],
   "metadata": {
    "id": "bVYdiuNDexEl"
   }
  },
  {
   "cell_type": "code",
   "source": [],
   "metadata": {
    "id": "O_8AU28Sx7ls"
   },
   "execution_count": null,
   "outputs": []
  },
  {
   "cell_type": "markdown",
   "source": [
    "# 과제 1\n",
    "\n",
    "주어진 Auto MPG dataset 데이터 셋을 이용하여 자동차의 연비를 예측하는 모델을 구현하시오.\n",
    "\n",
    "\n",
    "**제출**\n",
    "\n",
    "구현한 코드가 담긴 colab 파일을 PLATO \"텐서플로 과제 제출 게시판\"에 제출하세요. (4/23까지)\n",
    "\n",
    "**참고**\n",
    "\n",
    "https://www.tensorflow.org/tutorials/keras/regression\n",
    "\n",
    "\n",
    "```python\n",
    "import tensorflow as tf\n",
    "import pandas as pd\n",
    "import matplotlib.pyplot as plt\n",
    "import numpy as np\n",
    "\n",
    "url = 'http://archive.ics.uci.edu/ml/machine-learning-databases/auto-mpg/auto-mpg.data'\n",
    "column_names = ['MPG', 'Cylinders', 'Displacement', 'Horsepower', 'Weight',\n",
    "                'Acceleration', 'Model Year', 'Origin']\n",
    "\n",
    "raw_dataset = pd.read_csv(url, names=column_names,\n",
    "                          na_values='?', comment='\\t',\n",
    "                          sep=' ', skipinitialspace=True)\n",
    "```"
   ],
   "metadata": {
    "id": "1t6t2FVSx8dk"
   }
  },
  {
   "cell_type": "code",
   "source": [],
   "metadata": {
    "id": "on2S_z4Ux9a0"
   },
   "execution_count": null,
   "outputs": []
  }
 ]
}
