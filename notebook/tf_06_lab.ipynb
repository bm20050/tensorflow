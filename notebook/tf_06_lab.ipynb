{
  "nbformat": 4,
  "nbformat_minor": 0,
  "metadata": {
    "colab": {
      "provenance": []
    },
    "kernelspec": {
      "name": "python3",
      "display_name": "Python 3"
    },
    "language_info": {
      "name": "python"
    }
  },
  "cells": [
    {
      "cell_type": "markdown",
      "source": [
        "# 0. Prerequisite"
      ],
      "metadata": {
        "id": "yEZW1Tr8FHl7"
      }
    },
    {
      "cell_type": "markdown",
      "source": [
        "# LAB"
      ],
      "metadata": {
        "id": "8krMAn2mFLQJ"
      }
    },
    {
      "cell_type": "markdown",
      "source": [
        "## 제출\n",
        "\n",
        "구현한 코드가 담긴 colab 파일을 PLATO \"실습 과제 제출 게시판\"에 비밀글로 제출하세요."
      ],
      "metadata": {
        "id": "NQfQaLKC3bYn"
      }
    },
    {
      "cell_type": "markdown",
      "source": [
        "## 1\n",
        "\n",
        "> 문제 1\n",
        "---\n",
        "1. 주어진 danawa 맥북 리뷰를 데이터를 tensorflow 를 이용하여 텍스트 전처리 합니다.\n",
        "2. p.181 을 참고하여 주어진 문장을 이진 벡터로 변환 후 분류 모델 (긍정리뷰: 1, 부정리뷰: 0) 을 생성하시오. \n",
        "\n",
        "\n",
        "```python\n",
        "reviews = [\n",
        "    \"8년 정도 사용하던 맥북을 바꿔줬어요. 요즘 휴대폰, 패드가 너무 잘나와서 맥북 쓸 일은 그렇게 많이 없긴 한데 그래도 없으면 불편하니 기변합니다. 프로 13인치 깡통은 에어에 비해 망작이라고들 말하는데 120만원대에 22개월 무이자라면 말이 다르죠ㅎㅎ 불편하다던 터치바도 생각보다 편리한 기능들이 많아서 꽤 마음에 듭니다. 터치 아이디도 편하구요. 전 모델은 팬이 없어서 발열이 심했는데 역시 팬이 있으니 발열도 심하지 않고 좋아요. 쾌적합니다.\",\n",
        "    \"어제밤11시50분이 넘어서 주문했는데 오늘오후3시에 받았어요^^배송 너무 빨라서 놀랐고 가격도 할인을 정말 많이 받아서 저렴하게 구입했어요^^ 물건은 말할것도 없이 포장도 꼼꼼하고 아들이 정말 좋아해요^^ 잘쓰겠습니다~ 대박나시고 건강하세요^ 감사합니다\",\n",
        "    \"맥북 사실때 주의 하셔야할 사항이 본체에 미세한 전기가 흐르는 사항 입니다. 이유는 접지가 없어서 그렇다고 하네요. 추가로 접지 가능한 플러그를 구매 하셔야 합니다. ㅠㅠ\",\n",
        "    \"하이마트는 배송이 빨라서 좋다 기대도 안했는데 빨리 옴 하이마트는 전국 하이마트 지점 재고 네트워크가 잘 되어 있어서 그래서 더 빠른 듯 굿굿 애플은 하이마트\",\n",
        "    \"구형 맥북 배터리 교환때문에 고민을 하던 찰나에 좋은 가격에 잘 구입했습니다. 역시 11번가 입니다\",\n",
        "    \"슈팅 배송 맞구요. 스페이스그레이 가볍지 않고 너무 예뻐요. 그랜드11절 기다린 보람이 있네요.\",\n",
        "    \"인터넷 서핑 동영상 음악 감상용으로 나쁘지않아요대신 영상작업이나 포토샵하기엔 아쉽습니다.\",\n",
        "    \"배송도 진짜 빠르고 정말 좋습니다 추천 드려요\",\n",
        "    \"좋은상품 저렴하게 잘 구매했습니다 감사합니다\",\n",
        "    \"역시 맥북 최고입니다!!\",\n",
        "    \"빠른배송에 만족합니다 잘 사용할게요\",\n",
        "    \"오 너무 잘샀아요강추해요!\"\n",
        "]\n",
        "```\n"
      ],
      "metadata": {
        "id": "JaWrPo9V2swI"
      }
    },
    {
      "cell_type": "code",
      "source": [],
      "metadata": {
        "id": "V3_D-_Eu2uJY"
      },
      "execution_count": null,
      "outputs": []
    },
    {
      "cell_type": "markdown",
      "source": [
        "## 2\n",
        "\n",
        "> 문제 2\n",
        "---\n",
        "1. 1부터 100까지 자연수를 list 로 만듭니다.\n",
        "2. list 를 이용해서 tf.data.Dataset 을 생성합니다. (from_tensor_slices)\n",
        "3. Dataset에서 홀수만 선택합니다. (filter)\n",
        "4. 랜덤하게 섞어서 5 개씩 50개의 자연수를 출력합니다. (shuffle, batch)\n"
      ],
      "metadata": {
        "id": "e0_HaQXZ7eaR"
      }
    },
    {
      "cell_type": "code",
      "source": [],
      "metadata": {
        "id": "tGA2WiAr62Ia"
      },
      "execution_count": null,
      "outputs": []
    },
    {
      "cell_type": "markdown",
      "source": [
        "## 3\n",
        "\n",
        "> 문제 3\n",
        "---\n",
        "\n",
        "1. 주어진 코드 및 MNIST 데이터셋을 이용하여 tf.data.Dataset 을 생성합니다.\n",
        "2. p.191의 코드를 참고하여 MNIST 분류 모델을 학습 시킨 후, x_test 의 1,5,6,75,100 번째 이미지의 숫자를 예측해 보세요.\n",
        "3. 예측 결과는 해당 이미지와 예측된 숫자를 출력하시오. (예상결과 참조)\n",
        "\n",
        "\n",
        "```python\n",
        "import tensorflow as tf\n",
        "import numpy as np\n",
        "\n",
        "# load mnist dataset\n",
        "(x_train, y_train), (x_test, y_test) = tf.keras.datasets.mnist.load_data()\n",
        "\n",
        "```\n",
        "\n",
        "힌트: \n",
        "\n",
        "[tensorflow tutorial](https://www.tensorflow.org/datasets/keras_example)\n",
        "\n",
        "예상결과:\n",
        "\n",
        "\n",
        "<img src=\"https://drive.google.com/uc?id=1sI4SFrPRjZCJDJUwEm1reeJHb5TXXR7c\" width=\"400\"/>"
      ],
      "metadata": {
        "id": "RBPG81i2l2g3"
      }
    },
    {
      "cell_type": "code",
      "source": [],
      "metadata": {
        "id": "19HeUqlH7fZX"
      },
      "execution_count": null,
      "outputs": []
    },
    {
      "cell_type": "markdown",
      "source": [
        "## 4\n",
        "\n",
        "> 문제 4\n",
        "---\n",
        "1. 주어진 코드를 이용하여 fashion_mnist 데이터를 로드합니다. (데이터 형식은 numpy 배열)\n",
        "2. numpy 배열(x_train, y_train)을 이용해서 tf.data.Dataset 을 생성합니다.\n",
        "3. Dataset에서 랜덤하게 섞어서 3개의 이미지 shape과 label (바지, 드레스, 셔츠, 신발 등) 을 출력합니다.\n",
        "\n",
        "```python\n",
        "import tensorflow as tf\n",
        "from tensorflow.keras.datasets import fashion_mnist\n",
        "import numpy as np\n",
        "import matplotlib.pyplot as plt\n",
        "\n",
        "#1\n",
        "(x_train, y_train), (x_test, y_test) = fashion_mnist.load_data()\n",
        "print(\"x_train.shape=\", x_train.shape) # (60000, 28, 28)\n",
        "print(\"y_train.shape=\", y_train.shape) # (60000,)\n",
        "print(\"x_test.shape=\",  x_test.shape)  # (10000, 28, 28)\n",
        "print(\"y_test.shape=\",  y_test.shape)  # (10000,)\n",
        "```"
      ],
      "metadata": {
        "id": "6iZppcs4JQpq"
      }
    },
    {
      "cell_type": "code",
      "source": [],
      "metadata": {
        "id": "rA22JBzm63Np"
      },
      "execution_count": null,
      "outputs": []
    }
  ]
}