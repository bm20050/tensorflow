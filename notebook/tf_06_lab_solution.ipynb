{
  "nbformat": 4,
  "nbformat_minor": 0,
  "metadata": {
    "colab": {
      "provenance": [],
      "toc_visible": true
    },
    "kernelspec": {
      "name": "python3",
      "display_name": "Python 3"
    },
    "language_info": {
      "name": "python"
    }
  },
  "cells": [
    {
      "cell_type": "markdown",
      "source": [
        "# 0. Prerequisite"
      ],
      "metadata": {
        "id": "yEZW1Tr8FHl7"
      }
    },
    {
      "cell_type": "markdown",
      "source": [
        "# LAB"
      ],
      "metadata": {
        "id": "8krMAn2mFLQJ"
      }
    },
    {
      "cell_type": "markdown",
      "source": [
        "## 제출\n",
        "\n",
        "구현한 코드가 담긴 colab 파일을 PLATO \"실습 과제 제출 게시판\"에 비밀글로 제출하세요."
      ],
      "metadata": {
        "id": "NQfQaLKC3bYn"
      }
    },
    {
      "cell_type": "markdown",
      "source": [
        "## 1\n",
        "\n",
        "> 문제 1\n",
        "---\n",
        "1. 주어진 danawa 맥북 리뷰를 데이터를 tensorflow 를 이용하여 텍스트 전처리 합니다.\n",
        "2. 먼저, 빈도가 포함된 단어 사전을 구축합니다.\n",
        "3. 주어진 문장을 단어 사전의 인덱스(숫자)로 변경합니다.\n",
        "4. 숫자로 변경한 문장의 길이를 동일하게 맞춥니다.(패딩)\n",
        "6. p.181 을 참고하여 주어진 문장을 이진 벡터로 변환 후 분류 모델 (긍정리뷰: 1, 부정리뷰: 0) 을 생성하시오. \n",
        "\n",
        "\n",
        "```python\n",
        "reviews = [\n",
        "    \"8년 정도 사용하던 맥북을 바꿔줬어요. 요즘 휴대폰, 패드가 너무 잘나와서 맥북 쓸 일은 그렇게 많이 없긴 한데 그래도 없으면 불편하니 기변합니다. 프로 13인치 깡통은 에어에 비해 망작이라고들 말하는데 120만원대에 22개월 무이자라면 말이 다르죠ㅎㅎ 불편하다던 터치바도 생각보다 편리한 기능들이 많아서 꽤 마음에 듭니다. 터치 아이디도 편하구요. 전 모델은 팬이 없어서 발열이 심했는데 역시 팬이 있으니 발열도 심하지 않고 좋아요. 쾌적합니다.\",\n",
        "    \"어제밤11시50분이 넘어서 주문했는데 오늘오후3시에 받았어요^^배송 너무 빨라서 놀랐고 가격도 할인을 정말 많이 받아서 저렴하게 구입했어요^^ 물건은 말할것도 없이 포장도 꼼꼼하고 아들이 정말 좋아해요^^ 잘쓰겠습니다~ 대박나시고 건강하세요^ 감사합니다\",\n",
        "    \"맥북 사실때 주의 하셔야할 사항이 본체에 미세한 전기가 흐르는 사항 입니다. 이유는 접지가 없어서 그렇다고 하네요. 추가로 접지 가능한 플러그를 구매 하셔야 합니다. ㅠㅠ\",\n",
        "    \"하이마트는 배송이 빨라서 좋다 기대도 안했는데 빨리 옴 하이마트는 전국 하이마트 지점 재고 네트워크가 잘 되어 있어서 그래서 더 빠른 듯 굿굿 애플은 하이마트\",\n",
        "    \"구형 맥북 배터리 교환때문에 고민을 하던 찰나에 좋은 가격에 잘 구입했습니다. 역시 11번가 입니다\",\n",
        "    \"슈팅 배송 맞구요. 스페이스그레이 가볍지 않고 너무 예뻐요. 그랜드11절 기다린 보람이 있네요.\",\n",
        "    \"인터넷 서핑 동영상 음악 감상용으로 나쁘지않아요대신 영상작업이나 포토샵하기엔 아쉽습니다.\",\n",
        "    \"배송도 진짜 빠르고 정말 좋습니다 추천 드려요\",\n",
        "    \"좋은상품 저렴하게 잘 구매했습니다 감사합니다\",\n",
        "    \"역시 맥북 최고입니다!!\",\n",
        "    \"빠른배송에 만족합니다 잘 사용할게요\",\n",
        "    \"오 너무 잘샀아요강추해요!\"\n",
        "]\n",
        "```\n"
      ],
      "metadata": {
        "id": "JaWrPo9V2swI"
      }
    },
    {
      "cell_type": "code",
      "source": [
        "import tensorflow as tf\n",
        "\n",
        "reviews = [\n",
        "    \"8년 정도 사용하던 맥북을 바꿔줬어요. 요즘 휴대폰, 패드가 너무 잘나와서 맥북 쓸 일은 그렇게 많이 없긴 한데 그래도 없으면 불편하니 기변합니다. 프로 13인치 깡통은 에어에 비해 망작이라고들 말하는데 120만원대에 22개월 무이자라면 말이 다르죠ㅎㅎ 불편하다던 터치바도 생각보다 편리한 기능들이 많아서 꽤 마음에 듭니다. 터치 아이디도 편하구요. 전 모델은 팬이 없어서 발열이 심했는데 역시 팬이 있으니 발열도 심하지 않고 좋아요. 쾌적합니다.\",\n",
        "    \"어제밤11시50분이 넘어서 주문했는데 오늘오후3시에 받았어요^^배송 너무 빨라서 놀랐고 가격도 할인을 정말 많이 받아서 저렴하게 구입했어요^^ 물건은 말할것도 없이 포장도 꼼꼼하고 아들이 정말 좋아해요^^ 잘쓰겠습니다~ 대박나시고 건강하세요^ 감사합니다\",\n",
        "    \"맥북 사실때 주의 하셔야할 사항이 본체에 미세한 전기가 흐르는 사항 입니다. 이유는 접지가 없어서 그렇다고 하네요. 추가로 접지 가능한 플러그를 구매 하셔야 합니다. ㅠㅠ\",\n",
        "    \"하이마트는 배송이 빨라서 좋다 기대도 안했는데 빨리 옴 하이마트는 전국 하이마트 지점 재고 네트워크가 잘 되어 있어서 그래서 더 빠른 듯 굿굿 애플은 하이마트\",\n",
        "    \"구형 맥북 배터리 교환때문에 고민을 하던 찰나에 좋은 가격에 잘 구입했습니다. 역시 11번가 입니다\",\n",
        "    \"슈팅 배송 맞구요. 스페이스그레이 가볍지 않고 너무 예뻐요. 그랜드11절 기다린 보람이 있네요.\",\n",
        "    \"인터넷 서핑 동영상 음악 감상용으로 나쁘지않아요대신 영상작업이나 포토샵하기엔 아쉽습니다.\",\n",
        "    \"배송도 진짜 빠르고 정말 좋습니다 추천 드려요\",\n",
        "    \"좋은상품 저렴하게 잘 구매했습니다 감사합니다\",\n",
        "    \"역시 맥북 최고입니다!!\",\n",
        "    \"빠른배송에 만족합니다 잘 사용할게요\",\n",
        "    \"오 너무 잘샀아요강추해요!\"\n",
        "]\n",
        "\n",
        "reviews = [line.split() for line in reviews]\n",
        "reviews"
      ],
      "metadata": {
        "id": "YwXM8arag8QF"
      },
      "execution_count": null,
      "outputs": []
    },
    {
      "cell_type": "code",
      "source": [
        "tokenizer = tf.keras.preprocessing.text.Tokenizer()\n",
        "\n",
        "# Updates internal vocabulary based on a list of sequences.\n",
        "tokenizer.fit_on_texts(reviews)\n",
        "print('tokenizer.index_docs', tokenizer.index_docs)\n",
        "print('tokenizer.index_word', tokenizer.index_word)\n",
        "print('tokenizer.word_index', tokenizer.word_index)\n",
        "print('tokenizer.word_docs', tokenizer.word_docs)\n",
        "print('tokenizer.word_counts', tokenizer.word_counts)\n",
        "print('tokenizer.word_counts', sorted(tokenizer.word_counts.items(), key=lambda x: x[1], reverse=True))"
      ],
      "metadata": {
        "colab": {
          "base_uri": "https://localhost:8080/"
        },
        "id": "QkJJCnQmhFPl",
        "outputId": "d181c508-f464-47fb-8ba1-7ef2b6357990"
      },
      "execution_count": 4,
      "outputs": [
        {
          "output_type": "stream",
          "name": "stdout",
          "text": [
            "tokenizer.index_docs defaultdict(<class 'int'>, {30: 1, 31: 1, 38: 1, 41: 1, 58: 1, 20: 1, 61: 1, 45: 1, 65: 1, 40: 1, 55: 1, 24: 1, 48: 1, 29: 1, 54: 1, 63: 1, 44: 1, 42: 1, 22: 1, 1: 4, 49: 1, 47: 1, 16: 1, 17: 1, 32: 1, 25: 1, 4: 3, 56: 1, 33: 1, 7: 1, 34: 1, 8: 2, 18: 1, 46: 1, 39: 1, 60: 1, 35: 1, 43: 1, 27: 1, 6: 2, 37: 1, 50: 1, 53: 1, 19: 1, 36: 1, 57: 1, 15: 1, 2: 4, 59: 1, 21: 1, 51: 1, 62: 1, 52: 1, 64: 1, 9: 2, 28: 1, 23: 1, 26: 1, 80: 1, 74: 1, 79: 1, 73: 1, 82: 1, 76: 1, 70: 1, 72: 1, 66: 1, 84: 1, 69: 1, 83: 1, 77: 1, 10: 2, 68: 1, 78: 1, 67: 1, 12: 2, 11: 2, 81: 1, 5: 2, 71: 1, 85: 1, 75: 1, 96: 1, 93: 1, 101: 1, 89: 1, 87: 1, 100: 1, 102: 1, 105: 1, 98: 1, 106: 1, 90: 1, 107: 1, 95: 1, 97: 1, 103: 1, 94: 1, 99: 1, 91: 1, 92: 1, 86: 1, 104: 1, 88: 1, 110: 1, 111: 1, 3: 4, 115: 1, 119: 1, 112: 1, 113: 1, 114: 1, 121: 1, 109: 1, 123: 1, 125: 1, 117: 1, 116: 1, 108: 1, 13: 1, 120: 1, 118: 1, 122: 1, 14: 1, 124: 1, 128: 1, 130: 1, 127: 1, 136: 1, 134: 1, 129: 1, 135: 1, 126: 1, 133: 1, 131: 1, 132: 1, 142: 1, 139: 1, 141: 1, 138: 1, 137: 1, 143: 1, 144: 1, 140: 1, 146: 1, 145: 1, 150: 1, 154: 1, 147: 1, 148: 1, 155: 1, 149: 1, 152: 1, 153: 1, 151: 1, 161: 1, 156: 1, 157: 1, 160: 1, 158: 1, 159: 1, 162: 1, 163: 1, 164: 1, 166: 1, 167: 1, 165: 1, 169: 1, 168: 1})\n",
            "tokenizer.index_word {1: '너무', 2: '맥북', 3: '잘', 4: '역시', 5: '정말', 6: '많이', 7: '팬이', 8: '없어서', 9: '않고', 10: '빨라서', 11: '저렴하게', 12: '감사합니다', 13: '하이마트는', 14: '하이마트', 15: '8년', 16: '정도', 17: '사용하던', 18: '맥북을', 19: '바꿔줬어요.', 20: '요즘', 21: '휴대폰,', 22: '패드가', 23: '잘나와서', 24: '쓸', 25: '일은', 26: '그렇게', 27: '없긴', 28: '한데', 29: '그래도', 30: '없으면', 31: '불편하니', 32: '기변합니다.', 33: '프로', 34: '13인치', 35: '깡통은', 36: '에어에', 37: '비해', 38: '망작이라고들', 39: '말하는데', 40: '120만원대에', 41: '22개월', 42: '무이자라면', 43: '말이', 44: '다르죠ㅎㅎ', 45: '불편하다던', 46: '터치바도', 47: '생각보다', 48: '편리한', 49: '기능들이', 50: '많아서', 51: '꽤', 52: '마음에', 53: '듭니다.', 54: '터치', 55: '아이디도', 56: '편하구요.', 57: '전', 58: '모델은', 59: '발열이', 60: '심했는데', 61: '있으니', 62: '발열도', 63: '심하지', 64: '좋아요.', 65: '쾌적합니다.', 66: '어제밤11시50분이', 67: '넘어서', 68: '주문했는데', 69: '오늘오후3시에', 70: '받았어요^^배송', 71: '놀랐고', 72: '가격도', 73: '할인을', 74: '받아서', 75: '구입했어요^^', 76: '물건은', 77: '말할것도', 78: '없이', 79: '포장도', 80: '꼼꼼하고', 81: '아들이', 82: '좋아해요^^', 83: '잘쓰겠습니다~', 84: '대박나시고', 85: '건강하세요^', 86: '사실때', 87: '주의', 88: '하셔야할', 89: '사항이', 90: '본체에', 91: '미세한', 92: '전기가', 93: '흐르는', 94: '사항', 95: '입니다.', 96: '이유는', 97: '접지가', 98: '그렇다고', 99: '하네요.', 100: '추가로', 101: '접지', 102: '가능한', 103: '플러그를', 104: '구매', 105: '하셔야', 106: '합니다.', 107: 'ㅠㅠ', 108: '배송이', 109: '좋다', 110: '기대도', 111: '안했는데', 112: '빨리', 113: '옴', 114: '전국', 115: '지점', 116: '재고', 117: '네트워크가', 118: '되어', 119: '있어서', 120: '그래서', 121: '더', 122: '빠른', 123: '듯', 124: '굿굿', 125: '애플은', 126: '구형', 127: '배터리', 128: '교환때문에', 129: '고민을', 130: '하던', 131: '찰나에', 132: '좋은', 133: '가격에', 134: '구입했습니다.', 135: '11번가', 136: '입니다', 137: '슈팅', 138: '배송', 139: '맞구요.', 140: '스페이스그레이', 141: '가볍지', 142: '예뻐요.', 143: '그랜드11절', 144: '기다린', 145: '보람이', 146: '있네요.', 147: '인터넷', 148: '서핑', 149: '동영상', 150: '음악', 151: '감상용으로', 152: '나쁘지않아요대신', 153: '영상작업이나', 154: '포토샵하기엔', 155: '아쉽습니다.', 156: '배송도', 157: '진짜', 158: '빠르고', 159: '좋습니다', 160: '추천', 161: '드려요', 162: '좋은상품', 163: '구매했습니다', 164: '최고입니다!!', 165: '빠른배송에', 166: '만족합니다', 167: '사용할게요', 168: '오', 169: '잘샀아요강추해요!'}\n",
            "tokenizer.word_index {'너무': 1, '맥북': 2, '잘': 3, '역시': 4, '정말': 5, '많이': 6, '팬이': 7, '없어서': 8, '않고': 9, '빨라서': 10, '저렴하게': 11, '감사합니다': 12, '하이마트는': 13, '하이마트': 14, '8년': 15, '정도': 16, '사용하던': 17, '맥북을': 18, '바꿔줬어요.': 19, '요즘': 20, '휴대폰,': 21, '패드가': 22, '잘나와서': 23, '쓸': 24, '일은': 25, '그렇게': 26, '없긴': 27, '한데': 28, '그래도': 29, '없으면': 30, '불편하니': 31, '기변합니다.': 32, '프로': 33, '13인치': 34, '깡통은': 35, '에어에': 36, '비해': 37, '망작이라고들': 38, '말하는데': 39, '120만원대에': 40, '22개월': 41, '무이자라면': 42, '말이': 43, '다르죠ㅎㅎ': 44, '불편하다던': 45, '터치바도': 46, '생각보다': 47, '편리한': 48, '기능들이': 49, '많아서': 50, '꽤': 51, '마음에': 52, '듭니다.': 53, '터치': 54, '아이디도': 55, '편하구요.': 56, '전': 57, '모델은': 58, '발열이': 59, '심했는데': 60, '있으니': 61, '발열도': 62, '심하지': 63, '좋아요.': 64, '쾌적합니다.': 65, '어제밤11시50분이': 66, '넘어서': 67, '주문했는데': 68, '오늘오후3시에': 69, '받았어요^^배송': 70, '놀랐고': 71, '가격도': 72, '할인을': 73, '받아서': 74, '구입했어요^^': 75, '물건은': 76, '말할것도': 77, '없이': 78, '포장도': 79, '꼼꼼하고': 80, '아들이': 81, '좋아해요^^': 82, '잘쓰겠습니다~': 83, '대박나시고': 84, '건강하세요^': 85, '사실때': 86, '주의': 87, '하셔야할': 88, '사항이': 89, '본체에': 90, '미세한': 91, '전기가': 92, '흐르는': 93, '사항': 94, '입니다.': 95, '이유는': 96, '접지가': 97, '그렇다고': 98, '하네요.': 99, '추가로': 100, '접지': 101, '가능한': 102, '플러그를': 103, '구매': 104, '하셔야': 105, '합니다.': 106, 'ㅠㅠ': 107, '배송이': 108, '좋다': 109, '기대도': 110, '안했는데': 111, '빨리': 112, '옴': 113, '전국': 114, '지점': 115, '재고': 116, '네트워크가': 117, '되어': 118, '있어서': 119, '그래서': 120, '더': 121, '빠른': 122, '듯': 123, '굿굿': 124, '애플은': 125, '구형': 126, '배터리': 127, '교환때문에': 128, '고민을': 129, '하던': 130, '찰나에': 131, '좋은': 132, '가격에': 133, '구입했습니다.': 134, '11번가': 135, '입니다': 136, '슈팅': 137, '배송': 138, '맞구요.': 139, '스페이스그레이': 140, '가볍지': 141, '예뻐요.': 142, '그랜드11절': 143, '기다린': 144, '보람이': 145, '있네요.': 146, '인터넷': 147, '서핑': 148, '동영상': 149, '음악': 150, '감상용으로': 151, '나쁘지않아요대신': 152, '영상작업이나': 153, '포토샵하기엔': 154, '아쉽습니다.': 155, '배송도': 156, '진짜': 157, '빠르고': 158, '좋습니다': 159, '추천': 160, '드려요': 161, '좋은상품': 162, '구매했습니다': 163, '최고입니다!!': 164, '빠른배송에': 165, '만족합니다': 166, '사용할게요': 167, '오': 168, '잘샀아요강추해요!': 169}\n",
            "tokenizer.word_docs defaultdict(<class 'int'>, {'없으면': 1, '불편하니': 1, '망작이라고들': 1, '22개월': 1, '모델은': 1, '요즘': 1, '있으니': 1, '불편하다던': 1, '쾌적합니다.': 1, '120만원대에': 1, '아이디도': 1, '쓸': 1, '편리한': 1, '그래도': 1, '터치': 1, '심하지': 1, '다르죠ㅎㅎ': 1, '무이자라면': 1, '패드가': 1, '너무': 4, '기능들이': 1, '생각보다': 1, '정도': 1, '사용하던': 1, '기변합니다.': 1, '일은': 1, '역시': 3, '편하구요.': 1, '프로': 1, '팬이': 1, '13인치': 1, '없어서': 2, '맥북을': 1, '터치바도': 1, '말하는데': 1, '심했는데': 1, '깡통은': 1, '말이': 1, '없긴': 1, '많이': 2, '비해': 1, '많아서': 1, '듭니다.': 1, '바꿔줬어요.': 1, '에어에': 1, '전': 1, '8년': 1, '맥북': 4, '발열이': 1, '휴대폰,': 1, '꽤': 1, '발열도': 1, '마음에': 1, '좋아요.': 1, '않고': 2, '한데': 1, '잘나와서': 1, '그렇게': 1, '꼼꼼하고': 1, '받아서': 1, '포장도': 1, '할인을': 1, '좋아해요^^': 1, '물건은': 1, '받았어요^^배송': 1, '가격도': 1, '어제밤11시50분이': 1, '대박나시고': 1, '오늘오후3시에': 1, '잘쓰겠습니다~': 1, '말할것도': 1, '빨라서': 2, '주문했는데': 1, '없이': 1, '넘어서': 1, '감사합니다': 2, '저렴하게': 2, '아들이': 1, '정말': 2, '놀랐고': 1, '건강하세요^': 1, '구입했어요^^': 1, '이유는': 1, '흐르는': 1, '접지': 1, '사항이': 1, '주의': 1, '추가로': 1, '가능한': 1, '하셔야': 1, '그렇다고': 1, '합니다.': 1, '본체에': 1, 'ㅠㅠ': 1, '입니다.': 1, '접지가': 1, '플러그를': 1, '사항': 1, '하네요.': 1, '미세한': 1, '전기가': 1, '사실때': 1, '구매': 1, '하셔야할': 1, '기대도': 1, '안했는데': 1, '잘': 4, '지점': 1, '있어서': 1, '빨리': 1, '옴': 1, '전국': 1, '더': 1, '좋다': 1, '듯': 1, '애플은': 1, '네트워크가': 1, '재고': 1, '배송이': 1, '하이마트는': 1, '그래서': 1, '되어': 1, '빠른': 1, '하이마트': 1, '굿굿': 1, '교환때문에': 1, '하던': 1, '배터리': 1, '입니다': 1, '구입했습니다.': 1, '고민을': 1, '11번가': 1, '구형': 1, '가격에': 1, '찰나에': 1, '좋은': 1, '예뻐요.': 1, '맞구요.': 1, '가볍지': 1, '배송': 1, '슈팅': 1, '그랜드11절': 1, '기다린': 1, '스페이스그레이': 1, '있네요.': 1, '보람이': 1, '음악': 1, '포토샵하기엔': 1, '인터넷': 1, '서핑': 1, '아쉽습니다.': 1, '동영상': 1, '나쁘지않아요대신': 1, '영상작업이나': 1, '감상용으로': 1, '드려요': 1, '배송도': 1, '진짜': 1, '추천': 1, '빠르고': 1, '좋습니다': 1, '좋은상품': 1, '구매했습니다': 1, '최고입니다!!': 1, '만족합니다': 1, '사용할게요': 1, '빠른배송에': 1, '잘샀아요강추해요!': 1, '오': 1})\n",
            "tokenizer.word_counts OrderedDict([('8년', 1), ('정도', 1), ('사용하던', 1), ('맥북을', 1), ('바꿔줬어요.', 1), ('요즘', 1), ('휴대폰,', 1), ('패드가', 1), ('너무', 4), ('잘나와서', 1), ('맥북', 4), ('쓸', 1), ('일은', 1), ('그렇게', 1), ('많이', 2), ('없긴', 1), ('한데', 1), ('그래도', 1), ('없으면', 1), ('불편하니', 1), ('기변합니다.', 1), ('프로', 1), ('13인치', 1), ('깡통은', 1), ('에어에', 1), ('비해', 1), ('망작이라고들', 1), ('말하는데', 1), ('120만원대에', 1), ('22개월', 1), ('무이자라면', 1), ('말이', 1), ('다르죠ㅎㅎ', 1), ('불편하다던', 1), ('터치바도', 1), ('생각보다', 1), ('편리한', 1), ('기능들이', 1), ('많아서', 1), ('꽤', 1), ('마음에', 1), ('듭니다.', 1), ('터치', 1), ('아이디도', 1), ('편하구요.', 1), ('전', 1), ('모델은', 1), ('팬이', 2), ('없어서', 2), ('발열이', 1), ('심했는데', 1), ('역시', 3), ('있으니', 1), ('발열도', 1), ('심하지', 1), ('않고', 2), ('좋아요.', 1), ('쾌적합니다.', 1), ('어제밤11시50분이', 1), ('넘어서', 1), ('주문했는데', 1), ('오늘오후3시에', 1), ('받았어요^^배송', 1), ('빨라서', 2), ('놀랐고', 1), ('가격도', 1), ('할인을', 1), ('정말', 3), ('받아서', 1), ('저렴하게', 2), ('구입했어요^^', 1), ('물건은', 1), ('말할것도', 1), ('없이', 1), ('포장도', 1), ('꼼꼼하고', 1), ('아들이', 1), ('좋아해요^^', 1), ('잘쓰겠습니다~', 1), ('대박나시고', 1), ('건강하세요^', 1), ('감사합니다', 2), ('사실때', 1), ('주의', 1), ('하셔야할', 1), ('사항이', 1), ('본체에', 1), ('미세한', 1), ('전기가', 1), ('흐르는', 1), ('사항', 1), ('입니다.', 1), ('이유는', 1), ('접지가', 1), ('그렇다고', 1), ('하네요.', 1), ('추가로', 1), ('접지', 1), ('가능한', 1), ('플러그를', 1), ('구매', 1), ('하셔야', 1), ('합니다.', 1), ('ㅠㅠ', 1), ('하이마트는', 2), ('배송이', 1), ('좋다', 1), ('기대도', 1), ('안했는데', 1), ('빨리', 1), ('옴', 1), ('전국', 1), ('하이마트', 2), ('지점', 1), ('재고', 1), ('네트워크가', 1), ('잘', 4), ('되어', 1), ('있어서', 1), ('그래서', 1), ('더', 1), ('빠른', 1), ('듯', 1), ('굿굿', 1), ('애플은', 1), ('구형', 1), ('배터리', 1), ('교환때문에', 1), ('고민을', 1), ('하던', 1), ('찰나에', 1), ('좋은', 1), ('가격에', 1), ('구입했습니다.', 1), ('11번가', 1), ('입니다', 1), ('슈팅', 1), ('배송', 1), ('맞구요.', 1), ('스페이스그레이', 1), ('가볍지', 1), ('예뻐요.', 1), ('그랜드11절', 1), ('기다린', 1), ('보람이', 1), ('있네요.', 1), ('인터넷', 1), ('서핑', 1), ('동영상', 1), ('음악', 1), ('감상용으로', 1), ('나쁘지않아요대신', 1), ('영상작업이나', 1), ('포토샵하기엔', 1), ('아쉽습니다.', 1), ('배송도', 1), ('진짜', 1), ('빠르고', 1), ('좋습니다', 1), ('추천', 1), ('드려요', 1), ('좋은상품', 1), ('구매했습니다', 1), ('최고입니다!!', 1), ('빠른배송에', 1), ('만족합니다', 1), ('사용할게요', 1), ('오', 1), ('잘샀아요강추해요!', 1)])\n",
            "tokenizer.word_counts [('너무', 4), ('맥북', 4), ('잘', 4), ('역시', 3), ('정말', 3), ('많이', 2), ('팬이', 2), ('없어서', 2), ('않고', 2), ('빨라서', 2), ('저렴하게', 2), ('감사합니다', 2), ('하이마트는', 2), ('하이마트', 2), ('8년', 1), ('정도', 1), ('사용하던', 1), ('맥북을', 1), ('바꿔줬어요.', 1), ('요즘', 1), ('휴대폰,', 1), ('패드가', 1), ('잘나와서', 1), ('쓸', 1), ('일은', 1), ('그렇게', 1), ('없긴', 1), ('한데', 1), ('그래도', 1), ('없으면', 1), ('불편하니', 1), ('기변합니다.', 1), ('프로', 1), ('13인치', 1), ('깡통은', 1), ('에어에', 1), ('비해', 1), ('망작이라고들', 1), ('말하는데', 1), ('120만원대에', 1), ('22개월', 1), ('무이자라면', 1), ('말이', 1), ('다르죠ㅎㅎ', 1), ('불편하다던', 1), ('터치바도', 1), ('생각보다', 1), ('편리한', 1), ('기능들이', 1), ('많아서', 1), ('꽤', 1), ('마음에', 1), ('듭니다.', 1), ('터치', 1), ('아이디도', 1), ('편하구요.', 1), ('전', 1), ('모델은', 1), ('발열이', 1), ('심했는데', 1), ('있으니', 1), ('발열도', 1), ('심하지', 1), ('좋아요.', 1), ('쾌적합니다.', 1), ('어제밤11시50분이', 1), ('넘어서', 1), ('주문했는데', 1), ('오늘오후3시에', 1), ('받았어요^^배송', 1), ('놀랐고', 1), ('가격도', 1), ('할인을', 1), ('받아서', 1), ('구입했어요^^', 1), ('물건은', 1), ('말할것도', 1), ('없이', 1), ('포장도', 1), ('꼼꼼하고', 1), ('아들이', 1), ('좋아해요^^', 1), ('잘쓰겠습니다~', 1), ('대박나시고', 1), ('건강하세요^', 1), ('사실때', 1), ('주의', 1), ('하셔야할', 1), ('사항이', 1), ('본체에', 1), ('미세한', 1), ('전기가', 1), ('흐르는', 1), ('사항', 1), ('입니다.', 1), ('이유는', 1), ('접지가', 1), ('그렇다고', 1), ('하네요.', 1), ('추가로', 1), ('접지', 1), ('가능한', 1), ('플러그를', 1), ('구매', 1), ('하셔야', 1), ('합니다.', 1), ('ㅠㅠ', 1), ('배송이', 1), ('좋다', 1), ('기대도', 1), ('안했는데', 1), ('빨리', 1), ('옴', 1), ('전국', 1), ('지점', 1), ('재고', 1), ('네트워크가', 1), ('되어', 1), ('있어서', 1), ('그래서', 1), ('더', 1), ('빠른', 1), ('듯', 1), ('굿굿', 1), ('애플은', 1), ('구형', 1), ('배터리', 1), ('교환때문에', 1), ('고민을', 1), ('하던', 1), ('찰나에', 1), ('좋은', 1), ('가격에', 1), ('구입했습니다.', 1), ('11번가', 1), ('입니다', 1), ('슈팅', 1), ('배송', 1), ('맞구요.', 1), ('스페이스그레이', 1), ('가볍지', 1), ('예뻐요.', 1), ('그랜드11절', 1), ('기다린', 1), ('보람이', 1), ('있네요.', 1), ('인터넷', 1), ('서핑', 1), ('동영상', 1), ('음악', 1), ('감상용으로', 1), ('나쁘지않아요대신', 1), ('영상작업이나', 1), ('포토샵하기엔', 1), ('아쉽습니다.', 1), ('배송도', 1), ('진짜', 1), ('빠르고', 1), ('좋습니다', 1), ('추천', 1), ('드려요', 1), ('좋은상품', 1), ('구매했습니다', 1), ('최고입니다!!', 1), ('빠른배송에', 1), ('만족합니다', 1), ('사용할게요', 1), ('오', 1), ('잘샀아요강추해요!', 1)]\n"
          ]
        }
      ]
    },
    {
      "cell_type": "code",
      "source": [
        "sequences=tokenizer.texts_to_sequences(reviews)\n",
        "sequences"
      ],
      "metadata": {
        "id": "bInARj6fhgMk"
      },
      "execution_count": null,
      "outputs": []
    },
    {
      "cell_type": "code",
      "source": [
        "binary_vector = tokenizer.sequences_to_matrix(sequences)\n",
        "print(binary_vector.shape)"
      ],
      "metadata": {
        "colab": {
          "base_uri": "https://localhost:8080/"
        },
        "id": "HMaDKYK-hw7S",
        "outputId": "2c8a99cf-4090-44c0-d0e9-85a9f69278a7"
      },
      "execution_count": 6,
      "outputs": [
        {
          "output_type": "stream",
          "name": "stdout",
          "text": [
            "(12, 170)\n"
          ]
        }
      ]
    },
    {
      "cell_type": "code",
      "source": [
        "y = [1, 1, 0, 1, 1, 1, 0, 1, 1, 1, 1, 1]\n",
        "x_train = binary_vector\n",
        "y_train = tf.keras.utils.to_categorical(y)\n",
        "print('x_train: {}, y_train: {}'.format(x_train.shape, y_train.shape))"
      ],
      "metadata": {
        "colab": {
          "base_uri": "https://localhost:8080/"
        },
        "id": "TFFWEGW7h1vq",
        "outputId": "9bc8a7fa-522e-4c0a-d4bf-ea000949d6b4"
      },
      "execution_count": 7,
      "outputs": [
        {
          "output_type": "stream",
          "name": "stdout",
          "text": [
            "x_train: (12, 170), y_train: (12, 2)\n"
          ]
        }
      ]
    },
    {
      "cell_type": "code",
      "source": [
        "model = tf.keras.Sequential()\n",
        "model.add(tf.keras.layers.Dense(units=10, input_dim=170, activation='sigmoid'))\n",
        "model.add(tf.keras.layers.Dense(units=2, activation='softmax'))\n",
        "model.summary()"
      ],
      "metadata": {
        "colab": {
          "base_uri": "https://localhost:8080/"
        },
        "id": "cNl03E4TiDcF",
        "outputId": "77995799-f1f5-464f-f23a-962645dc3379"
      },
      "execution_count": 8,
      "outputs": [
        {
          "output_type": "stream",
          "name": "stdout",
          "text": [
            "Model: \"sequential\"\n",
            "_________________________________________________________________\n",
            " Layer (type)                Output Shape              Param #   \n",
            "=================================================================\n",
            " dense (Dense)               (None, 10)                1710      \n",
            "                                                                 \n",
            " dense_1 (Dense)             (None, 2)                 22        \n",
            "                                                                 \n",
            "=================================================================\n",
            "Total params: 1,732\n",
            "Trainable params: 1,732\n",
            "Non-trainable params: 0\n",
            "_________________________________________________________________\n"
          ]
        }
      ]
    },
    {
      "cell_type": "code",
      "source": [
        "opt = tf.keras.optimizers.RMSprop(learning_rate=0.01)\n",
        "model.compile(optimizer=opt, loss='categorical_crossentropy', metrics=['accuracy'])"
      ],
      "metadata": {
        "id": "3yQT-0GQiMY0"
      },
      "execution_count": 9,
      "outputs": []
    },
    {
      "cell_type": "code",
      "source": [
        "ret = model.fit(x_train, y_train, epochs=100, batch_size=4, verbose=0)"
      ],
      "metadata": {
        "id": "gO5BDeZViPhE"
      },
      "execution_count": 10,
      "outputs": []
    },
    {
      "cell_type": "code",
      "source": [
        "train_loss, train_acc = model.evaluate(x_train, y_train, verbose=2)"
      ],
      "metadata": {
        "id": "V3_D-_Eu2uJY",
        "colab": {
          "base_uri": "https://localhost:8080/"
        },
        "outputId": "8725ef86-61b0-4604-a273-1e5b71faa553"
      },
      "execution_count": 11,
      "outputs": [
        {
          "output_type": "stream",
          "name": "stdout",
          "text": [
            "1/1 - 0s - loss: 5.4515e-05 - accuracy: 1.0000 - 98ms/epoch - 98ms/step\n"
          ]
        }
      ]
    },
    {
      "cell_type": "markdown",
      "source": [
        "## 2\n",
        "\n",
        "> 문제 2\n",
        "---\n",
        "1. 1부터 100까지 자연수를 list 로 만듭니다.\n",
        "2. list 를 이용해서 tf.data.Dataset 을 생성합니다. (from_tensor_slices)\n",
        "3. Dataset에서 홀수만 선택합니다. (filter)\n",
        "4. 랜덤하게 섞어서 5 개씩 50개의 자연수를 출력합니다. (shuffle, batch)\n"
      ],
      "metadata": {
        "id": "e0_HaQXZ7eaR"
      }
    },
    {
      "cell_type": "code",
      "source": [
        "numbers = range(1, 101)\n",
        "for num in tf.data.Dataset\\\n",
        "                  .from_tensor_slices(numbers)\\\n",
        "                  .filter(lambda x: x % 2 != 0)\\\n",
        "                  .shuffle(100).batch(32):\n",
        "  print(num)"
      ],
      "metadata": {
        "id": "tGA2WiAr62Ia",
        "colab": {
          "base_uri": "https://localhost:8080/"
        },
        "outputId": "71ddebf3-9485-496b-c82e-88a70c717e48"
      },
      "execution_count": 13,
      "outputs": [
        {
          "output_type": "stream",
          "name": "stdout",
          "text": [
            "tf.Tensor([59 55 69 17 79], shape=(5,), dtype=int32)\n",
            "tf.Tensor([65 95 57 15 89], shape=(5,), dtype=int32)\n",
            "tf.Tensor([63 21 49 41 77], shape=(5,), dtype=int32)\n",
            "tf.Tensor([37 29 93 23 83], shape=(5,), dtype=int32)\n",
            "tf.Tensor([85  3 47 71 51], shape=(5,), dtype=int32)\n",
            "tf.Tensor([19 27 91 61 39], shape=(5,), dtype=int32)\n",
            "tf.Tensor([ 7 87 35 13  5], shape=(5,), dtype=int32)\n",
            "tf.Tensor([11 25 97 99 81], shape=(5,), dtype=int32)\n",
            "tf.Tensor([33  9  1 45 67], shape=(5,), dtype=int32)\n",
            "tf.Tensor([75 43 31 73 53], shape=(5,), dtype=int32)\n"
          ]
        }
      ]
    },
    {
      "cell_type": "markdown",
      "source": [
        "## 3\n",
        "\n",
        "> 문제 3\n",
        "---\n",
        "\n",
        "1. 주어진 코드 및 MNIST 데이터셋을 이용하여 tf.data.Dataset 을 생성합니다.\n",
        "2. p.191의 코드를 참고하여 MNIST 분류 모델을 학습 시킨 후, x_test 의 1,5,6,75,100 번째 이미지의 숫자를 예측해 보세요.\n",
        "3. 예측 결과는 해당 이미지와 예측된 숫자를 출력하시오. (예상결과 참조)\n",
        "\n",
        "\n",
        "```python\n",
        "import tensorflow as tf\n",
        "import numpy as np\n",
        "\n",
        "# load mnist dataset\n",
        "(x_train, y_train), (x_test, y_test) = tf.keras.datasets.mnist.load_data()\n",
        "\n",
        "```\n",
        "\n",
        "힌트: \n",
        "\n",
        "[tensorflow tutorial](https://www.tensorflow.org/datasets/keras_example)\n",
        "\n",
        "예상결과:\n",
        "\n",
        "\n",
        "<img src=\"https://drive.google.com/uc?id=1sI4SFrPRjZCJDJUwEm1reeJHb5TXXR7c\" width=\"400\"/>"
      ],
      "metadata": {
        "id": "RBPG81i2l2g3"
      }
    },
    {
      "cell_type": "code",
      "source": [
        "!pip install tensorflow-datasets"
      ],
      "metadata": {
        "id": "YGIDN_DdjDX0"
      },
      "execution_count": null,
      "outputs": []
    },
    {
      "cell_type": "code",
      "source": [
        "import tensorflow as tf\n",
        "import numpy as np\n",
        "import tensorflow_datasets as tfds\n",
        "\n",
        "(x_train, y_train), (x_test, y_test) = tf.keras.datasets.mnist.load_data()\n",
        "\n",
        "# Rescale the images from [0,255] to the [0.0,1.0] range.\n",
        "x_train, x_test = x_train[..., np.newaxis]/255.0, x_test[..., np.newaxis]/255.0\n",
        "\n",
        "print('x_train', type(x_train), x_train.shape)\n",
        "print('y_train', type(y_train), y_train.shape)"
      ],
      "metadata": {
        "colab": {
          "base_uri": "https://localhost:8080/"
        },
        "id": "NxIfM_S8i9Gb",
        "outputId": "7fe835e8-7b87-4b7b-a62c-11897980f11a"
      },
      "execution_count": 17,
      "outputs": [
        {
          "output_type": "stream",
          "name": "stdout",
          "text": [
            "x_train <class 'numpy.ndarray'> (60000, 28, 28, 1)\n",
            "y_train <class 'numpy.ndarray'> (60000,)\n"
          ]
        }
      ]
    },
    {
      "cell_type": "code",
      "source": [
        "AUTOTUNE = tf.data.AUTOTUNE\n",
        "mnist_train_ds = tf.data.Dataset.from_tensor_slices((x_train, y_train))"
      ],
      "metadata": {
        "id": "mauBcpcDjVoz"
      },
      "execution_count": 18,
      "outputs": []
    },
    {
      "cell_type": "code",
      "source": [
        "mnist_train_ds = mnist_train_ds.cache().shuffle(5000).batch(32).prefetch(buffer_size=AUTOTUNE)"
      ],
      "metadata": {
        "id": "Pc930DAmjdPM"
      },
      "execution_count": 19,
      "outputs": []
    },
    {
      "cell_type": "code",
      "source": [
        "model = tf.keras.Sequential([\n",
        "  tf.keras.layers.Flatten(),\n",
        "  tf.keras.layers.Dense(10)\n",
        "])\n",
        "\n",
        "model.compile(optimizer='adam',\n",
        "              loss=tf.keras.losses.SparseCategoricalCrossentropy(from_logits=True), \n",
        "              metrics=['accuracy'])\n",
        "\n",
        "history = model.fit(mnist_train_ds, epochs=10)\n"
      ],
      "metadata": {
        "id": "19HeUqlH7fZX",
        "colab": {
          "base_uri": "https://localhost:8080/"
        },
        "outputId": "95253b77-ad6d-43ac-cf4d-df8f9e4c1dd6"
      },
      "execution_count": 20,
      "outputs": [
        {
          "output_type": "stream",
          "name": "stdout",
          "text": [
            "Epoch 1/10\n",
            "1875/1875 [==============================] - 2s 797us/step - loss: 0.4663 - accuracy: 0.8782\n",
            "Epoch 2/10\n",
            "1875/1875 [==============================] - 1s 767us/step - loss: 0.3046 - accuracy: 0.9148\n",
            "Epoch 3/10\n",
            "1875/1875 [==============================] - 1s 741us/step - loss: 0.2831 - accuracy: 0.9208\n",
            "Epoch 4/10\n",
            "1875/1875 [==============================] - 1s 765us/step - loss: 0.2734 - accuracy: 0.9238\n",
            "Epoch 5/10\n",
            "1875/1875 [==============================] - 1s 781us/step - loss: 0.2667 - accuracy: 0.9260\n",
            "Epoch 6/10\n",
            "1875/1875 [==============================] - 1s 776us/step - loss: 0.2618 - accuracy: 0.9273\n",
            "Epoch 7/10\n",
            "1875/1875 [==============================] - 1s 760us/step - loss: 0.2581 - accuracy: 0.9284\n",
            "Epoch 8/10\n",
            "1875/1875 [==============================] - 1s 772us/step - loss: 0.2554 - accuracy: 0.9293\n",
            "Epoch 9/10\n",
            "1875/1875 [==============================] - 1s 755us/step - loss: 0.2530 - accuracy: 0.9298\n",
            "Epoch 10/10\n",
            "1875/1875 [==============================] - 1s 784us/step - loss: 0.2512 - accuracy: 0.9307\n"
          ]
        }
      ]
    },
    {
      "cell_type": "code",
      "source": [
        "import matplotlib.pyplot as plt\n",
        "\n",
        "def plot_loss(history):\n",
        "  plt.plot(history.history['loss'], label='loss')\n",
        "  plt.ylim([0, 1])\n",
        "  plt.xlabel('Epoch')\n",
        "  plt.ylabel('loss')\n",
        "  plt.legend()\n",
        "  plt.grid(True)\n",
        "\n",
        "plot_loss(history)"
      ],
      "metadata": {
        "colab": {
          "base_uri": "https://localhost:8080/",
          "height": 455
        },
        "id": "b_4vutXwIWlY",
        "outputId": "f9fd7a7b-6c1b-4186-dbaf-8081915ce956"
      },
      "execution_count": 22,
      "outputs": [
        {
          "output_type": "display_data",
          "data": {
            "text/plain": [
              "<Figure size 640x480 with 1 Axes>"
            ],
            "image/png": "[encoded data removed]"
          },
          "metadata": {}
        }
      ]
    },
    {
      "cell_type": "code",
      "source": [
        "predict_ds = tf.data.Dataset.from_tensor_slices(x_test).batch(32)\n",
        "result = model.predict(predict_ds, steps = 10)\n",
        "print(result.shape)\n",
        "print(result)"
      ],
      "metadata": {
        "colab": {
          "base_uri": "https://localhost:8080/"
        },
        "id": "gpcjEFNdIss7",
        "outputId": "c5700e4b-66c9-4346-8303-1606385aaf1f"
      },
      "execution_count": 24,
      "outputs": [
        {
          "output_type": "stream",
          "name": "stdout",
          "text": [
            "10/10 [==============================] - 0s 946us/step\n",
            "(320, 10)\n",
            "[[ -5.1963053  -17.93727     -3.809484   ...   9.258945    -2.2583826\n",
            "    0.8327811 ]\n",
            " [  0.27460557  -5.620575     7.9283156  ... -33.371605    -2.0267563\n",
            "  -26.601149  ]\n",
            " [ -8.513489     5.226363     0.9348357  ...  -2.990879    -0.39856756\n",
            "   -3.1907022 ]\n",
            " ...\n",
            " [ -9.098013    -5.663724   -14.704968   ...  -6.824829     2.0443392\n",
            "   -6.519617  ]\n",
            " [  1.0977821  -16.347586     1.9030879  ... -17.422562    -1.0874445\n",
            "  -15.038196  ]\n",
            " [ -3.1563714  -13.84353     -5.009995   ... -23.808601     0.46601725\n",
            "  -11.886008  ]]\n"
          ]
        }
      ]
    },
    {
      "cell_type": "code",
      "source": [
        "from operator import itemgetter\n",
        "q = [1,5,6,75,100]\n",
        "fig, axs = plt.subplots(1, 5, figsize=(5, 25))\n",
        "for fig_idx, (idx, prediction) in enumerate(zip(q, itemgetter(1,5,6,75,100)(result))):\n",
        "  axs[fig_idx].imshow(x_test[idx].reshape(28,28))\n",
        "  pred_y = np.argmax(prediction)\n",
        "  print(f\"This image is probably a {pred_y}\")"
      ],
      "metadata": {
        "colab": {
          "base_uri": "https://localhost:8080/",
          "height": 224
        },
        "id": "mA6Nrrl-IrRK",
        "outputId": "33d1ec6f-0a58-4646-cf82-532b72c0d3ce"
      },
      "execution_count": 25,
      "outputs": [
        {
          "output_type": "stream",
          "name": "stdout",
          "text": [
            "This image is probably a 2\n",
            "This image is probably a 1\n",
            "This image is probably a 4\n",
            "This image is probably a 7\n",
            "This image is probably a 6\n"
          ]
        },
        {
          "output_type": "display_data",
          "data": {
            "text/plain": [
              "<Figure size 500x2500 with 5 Axes>"
            ],
            "image/png": "[encoded data removed]"
          },
          "metadata": {}
        }
      ]
    },
    {
      "cell_type": "markdown",
      "source": [
        "## 4\n",
        "\n",
        "> 문제 4\n",
        "---\n",
        "1. 주어진 코드를 이용하여 fashion_mnist 데이터를 로드합니다. (데이터 형식은 numpy 배열)\n",
        "2. numpy 배열(x_train, y_train)을 이용해서 tf.data.Dataset 을 생성합니다.\n",
        "3. Dataset에서 랜덤하게 섞어서 3개의 이미지 shape과 label (바지, 드레스, 셔츠, 신발 등) 을 출력합니다.\n",
        "\n",
        "```python\n",
        "import tensorflow as tf\n",
        "from tensorflow.keras.datasets import fashion_mnist\n",
        "import numpy as np\n",
        "import matplotlib.pyplot as plt\n",
        "\n",
        "#1\n",
        "(x_train, y_train), (x_test, y_test) = fashion_mnist.load_data()\n",
        "print(\"x_train.shape=\", x_train.shape) # (60000, 28, 28)\n",
        "print(\"y_train.shape=\", y_train.shape) # (60000,)\n",
        "print(\"x_test.shape=\",  x_test.shape)  # (10000, 28, 28)\n",
        "print(\"y_test.shape=\",  y_test.shape)  # (10000,)\n",
        "```"
      ],
      "metadata": {
        "id": "6iZppcs4JQpq"
      }
    },
    {
      "cell_type": "code",
      "source": [
        "import tensorflow as tf\n",
        "from tensorflow.keras.datasets import fashion_mnist\n",
        "import numpy as np\n",
        "import matplotlib.pyplot as plt\n",
        "\n",
        "# 1\n",
        "(x_train, y_train), (x_test, y_test) = fashion_mnist.load_data()\n",
        "print(\"x_train.shape=\", x_train.shape) # (60000, 28, 28)\n",
        "print(\"y_train.shape=\", y_train.shape) # (60000,)\n",
        "print(\"x_test.shape=\",  x_test.shape)  # (10000, 28, 28)\n",
        "print(\"y_test.shape=\",  y_test.shape)  # (10000,)"
      ],
      "metadata": {
        "colab": {
          "base_uri": "https://localhost:8080/"
        },
        "id": "1OO681TtkcD7",
        "outputId": "b1326ad0-4f0c-4e6b-c7fb-659dae737f75"
      },
      "execution_count": 26,
      "outputs": [
        {
          "output_type": "stream",
          "name": "stdout",
          "text": [
            "x_train.shape= (60000, 28, 28)\n",
            "y_train.shape= (60000,)\n",
            "x_test.shape= (10000, 28, 28)\n",
            "y_test.shape= (10000,)\n"
          ]
        }
      ]
    },
    {
      "cell_type": "code",
      "source": [
        "train_dataset = tf.data.Dataset.from_tensor_slices((x_train, y_train))"
      ],
      "metadata": {
        "id": "ANuziEJAkifs"
      },
      "execution_count": 27,
      "outputs": []
    },
    {
      "cell_type": "code",
      "source": [
        "lables = {\n",
        "    0: 'T-shirt/top',\n",
        "    1: 'Trouser',\n",
        "    2: 'Pullover',\n",
        "    3: 'Dress', \n",
        "    4: 'Coat',\n",
        "    5: 'Sandal',\n",
        "    6: 'Shirt',\n",
        "    7: 'Sneaker',\n",
        "    8: 'Bag',\n",
        "    9: 'Ankle boot',\n",
        "}\n",
        "\n",
        "for image, label in train_dataset\\\n",
        "                            .map(lambda x, y: (x/255, y))\\\n",
        "                            .shuffle(100)\\\n",
        "                            .take(3):\n",
        "  print('image', image.shape)\n",
        "  print('label', label.shape, lables[label.numpy()])\n",
        "  plt.figure()\n",
        "  plt.imshow(image)\n",
        "  plt.show()"
      ],
      "metadata": {
        "colab": {
          "base_uri": "https://localhost:8080/",
          "height": 1000
        },
        "id": "ljhBJEEvklFj",
        "outputId": "4fca3df4-530a-4b38-d38d-d12279ceac20"
      },
      "execution_count": 30,
      "outputs": [
        {
          "output_type": "stream",
          "name": "stdout",
          "text": [
            "image (28, 28)\n",
            "label () Sneaker\n"
          ]
        },
        {
          "output_type": "display_data",
          "data": {
            "text/plain": [
              "<Figure size 640x480 with 1 Axes>"
            ],
            "image/png": "[encoded data removed]"
          },
          "metadata": {}
        },
        {
          "output_type": "stream",
          "name": "stdout",
          "text": [
            "image (28, 28)\n",
            "label () Trouser\n"
          ]
        },
        {
          "output_type": "display_data",
          "data": {
            "text/plain": [
              "<Figure size 640x480 with 1 Axes>"
            ],
            "image/png": "[encoded data removed]"
          },
          "metadata": {}
        },
        {
          "output_type": "stream",
          "name": "stdout",
          "text": [
            "image (28, 28)\n",
            "label () Sandal\n"
          ]
        },
        {
          "output_type": "display_data",
          "data": {
            "text/plain": [
              "<Figure size 640x480 with 1 Axes>"
            ],
            "image/png": "[encoded data removed]"
          },
          "metadata": {}
        }
      ]
    },
    {
      "cell_type": "code",
      "source": [
        "import tensorflow as tf\n",
        "from tensorflow.keras.datasets import fashion_mnist\n",
        "import numpy as np\n",
        "import matplotlib.pyplot as plt\n",
        "\n",
        "# 1\n",
        "(x_train, y_train), (x_test, y_test) = fashion_mnist.load_data()\n",
        "print(\"x_train.shape=\", x_train.shape) # (60000, 28, 28)\n",
        "print(\"y_train.shape=\", y_train.shape) # (60000,)\n",
        "print(\"x_test.shape=\",  x_test.shape)  # (10000, 28, 28)\n",
        "print(\"y_test.shape=\",  y_test.shape)  # (10000,)\n",
        "\n",
        "#class_names = ['T-shirt/top', 'Trouser', 'Pullover', 'Dress', 'Coat',\n",
        "#               'Sandal', 'Shirt', 'Sneaker', 'Bag', 'Ankle boot']\n",
        "lables = {\n",
        "    0: 'T-shirt/top',\n",
        "    1: 'Trouser',\n",
        "    2: 'Pullover',\n",
        "    3: 'Dress', \n",
        "    4: 'Coat',\n",
        "    5: 'Sandal',\n",
        "    6: 'Shirt',\n",
        "    7: 'Sneaker',\n",
        "    8: 'Bag',\n",
        "    9: 'Ankle boot',\n",
        "}\n",
        "\n",
        "train_dataset = tf.data.Dataset.from_tensor_slices((x_train, y_train))\n",
        "\n",
        "for image, label in train_dataset\\\n",
        "                            .map(lambda x, y: (x/255, y))\\\n",
        "                            .shuffle(100)\\\n",
        "                            .take(3):\n",
        "  print('image', image.shape)\n",
        "  print('label', label.shape, lables[label.numpy()])\n",
        "  plt.figure()\n",
        "  plt.imshow(image)\n",
        "  plt.show()"
      ],
      "metadata": {
        "id": "rA22JBzm63Np",
        "colab": {
          "base_uri": "https://localhost:8080/",
          "height": 1000
        },
        "outputId": "1a0cf5ec-f1c0-4185-ad63-0f1c55b98910"
      },
      "execution_count": null,
      "outputs": [
        {
          "output_type": "stream",
          "name": "stdout",
          "text": [
            "x_train.shape= (60000, 28, 28)\n",
            "y_train.shape= (60000,)\n",
            "x_test.shape= (10000, 28, 28)\n",
            "y_test.shape= (10000,)\n",
            "image (28, 28)\n",
            "label () Trouser\n"
          ]
        },
        {
          "output_type": "display_data",
          "data": {
            "text/plain": [
              "<Figure size 640x480 with 1 Axes>"
            ],
            "image/png": "[encoded data removed]"
          },
          "metadata": {}
        },
        {
          "output_type": "stream",
          "name": "stdout",
          "text": [
            "image (28, 28)\n",
            "label () Ankle boot\n"
          ]
        },
        {
          "output_type": "display_data",
          "data": {
            "text/plain": [
              "<Figure size 640x480 with 1 Axes>"
            ],
            "image/png": "[encoded data removed]"
          },
          "metadata": {}
        },
        {
          "output_type": "stream",
          "name": "stdout",
          "text": [
            "image (28, 28)\n",
            "label () Coat\n"
          ]
        },
        {
          "output_type": "display_data",
          "data": {
            "text/plain": [
              "<Figure size 640x480 with 1 Axes>"
            ],
            "image/png": "[encoded data removed]"
          },
          "metadata": {}
        }
      ]
    }
  ]
}