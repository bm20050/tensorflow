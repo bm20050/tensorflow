{
 "nbformat": 4,
 "nbformat_minor": 0,
 "metadata": {
  "colab": {
   "provenance": []
  },
  "kernelspec": {
   "name": "python3",
   "language": "python",
   "display_name": "Python 3 (ipykernel)"
  },
  "language_info": {
   "name": "python"
  }
 },
 "cells": [
  {
   "cell_type": "code",
   "execution_count": null,
   "metadata": {
    "id": "JDoe7jazdPz5",
    "colab": {
     "base_uri": "https://localhost:8080/"
    },
    "executionInfo": {
     "status": "ok",
     "timestamp": 1681731341845,
     "user_tz": -540,
     "elapsed": 6,
     "user": {
      "displayName": "Bonghee Hong",
      "userId": "17805293653427923937"
     }
    },
    "outputId": "9631b845-960b-40e3-c52e-689957b4f0a2"
   },
   "outputs": [
    {
     "output_type": "stream",
     "name": "stdout",
     "text": [
      "MSE(t, y1)= 1.875\n",
      "MSE(t, y2)= 0.25\n"
     ]
    }
   ],
   "source": [
    "#0501\n",
    "import numpy as np\n",
    "\n",
    "def MSE(y, t):\n",
    "    return np.sum((y-t)**2)/t.size\n",
    "\n",
    "t = np.array([1,    2, 3,   4])    \n",
    "y1 = np.array([0.5, 1, 1.5, 2])\n",
    "\n",
    "print(\"MSE(t, y1)=\", MSE(t, y1))\n",
    "\n",
    "y2 = np.array([0.5, 1.5, 2.5, 3.5])\n",
    "print(\"MSE(t, y2)=\", MSE(t, y2))\n"
   ]
  },
  {
   "cell_type": "code",
   "source": [
    "#0502\n",
    "import numpy as np\n",
    "import tensorflow as tf\n",
    "\n",
    "def MSE(y, t):\n",
    "    return tf.reduce_mean(tf.square(y - t))   # (y - t)**2\n",
    "\n",
    "t = np.array([1,   2, 3,   4])    \n",
    "y1 = np.array([0.5, 1, 1.5, 2])\n",
    "#t = tf.convert_to_tensor(t, dtype=tf.float32)\n",
    "#y1 = tf.convert_to_tensor(y1, dtype=tf.float32)\n",
    "\n",
    "print(\"MSE(t, y1)=\", MSE(t, y1).numpy())\n",
    "\n",
    "y2 = np.array([0.5, 1.5, 2.5, 3.5])\n",
    "print(\"MSE(t, y2)=\", MSE(t, y2).numpy())\n"
   ],
   "metadata": {
    "id": "_WGWATbodWvb",
    "colab": {
     "base_uri": "https://localhost:8080/"
    },
    "executionInfo": {
     "status": "ok",
     "timestamp": 1681731356501,
     "user_tz": -540,
     "elapsed": 4724,
     "user": {
      "displayName": "Bonghee Hong",
      "userId": "17805293653427923937"
     }
    },
    "outputId": "a9b0e970-4bc3-4b7f-80a8-d20167e7d67b"
   },
   "execution_count": null,
   "outputs": [
    {
     "output_type": "stream",
     "name": "stdout",
     "text": [
      "MSE(t, y1)= 1.875\n",
      "MSE(t, y2)= 0.25\n"
     ]
    }
   ]
  },
  {
   "cell_type": "code",
   "source": [
    "#0503 - tf.keraqqs.losses.MeanSquaredError를 사용하여 MSE 계산\n",
    "import numpy as np\n",
    "import tensorflow as tf\n",
    "\n",
    "t = np.array([1,   2, 3,   4])    \n",
    "y1 = np.array([0.5, 1, 1.5, 2])\n",
    "#t = tf.convert_to_tensor(t, dtype=tf.float32)\n",
    "#y1 = tf.convert_to_tensor(y1, dtype=tf.float32)\n",
    "\n",
    "MSE = tf.keras.losses.MeanSquaredError()\n",
    "\n",
    "print(\"MSE(t, y1)=\", MSE(t, y1).numpy())\n",
    "\n",
    "y2 = np.array([0.5, 1.5, 2.5, 3.5])\n",
    "print(\"MSE(t, y2)=\", MSE(t, y2).numpy())\n"
   ],
   "metadata": {
    "id": "KUR-VpAtdcYa",
    "colab": {
     "base_uri": "https://localhost:8080/"
    },
    "executionInfo": {
     "status": "ok",
     "timestamp": 1681731393532,
     "user_tz": -540,
     "elapsed": 1225,
     "user": {
      "displayName": "Bonghee Hong",
      "userId": "17805293653427923937"
     }
    },
    "outputId": "896d49f7-8863-45d3-a8e2-0f001ccfb642"
   },
   "execution_count": null,
   "outputs": [
    {
     "output_type": "stream",
     "name": "stdout",
     "text": [
      "MSE(t, y1)= 1.875\n",
      "MSE(t, y2)= 0.25\n"
     ]
    }
   ]
  },
  {
   "cell_type": "code",
   "source": [
    "#0601\n",
    "import numpy as np\n",
    "   \n",
    "def MSE(y, t):\n",
    "    return np.sum((y-t)**2)/t.size\n",
    "    \n",
    "x = np.arange(12) # [ 0,  1,  2,  3,  4,  5,  6,  7,  8,  9, 10, 11]\n",
    "t = np.arange(12)\n",
    "\n",
    "w = 0.5     # 초기값\n",
    "b = 0\n",
    "lr = 0.001  # 0.01, learning rate\n",
    "\n",
    "loss_list = [ ]\n",
    "for epoch in range(200):\n",
    "    y = w*x + b                      # calculate the output   \n",
    "    dW = np.sum((y-t)*x)/(2*x.size)  # gradients\n",
    "    dB = np.sum((y-t))/(2*x.size)\n",
    "    \n",
    "    w = w - lr*dW     # update parameters\n",
    "    b = b - lr*dB\n",
    "\n",
    "    y = w*x + b       # calculate the output\n",
    "    loss = MSE(y, t)\n",
    "    loss_list.append(loss)\n",
    "##    if not epoch%10:\n",
    "##        print(\"epoch={}: w={:>8.4f}. b={:>8.4f}, loss={}\".format(epoch, w, b, loss))\n",
    "\n",
    "print(\"w={:>.4f}. b={:>.4f}, loss={:>.4f}\".format(w, b, loss))\n",
    "\n",
    "import matplotlib.pyplot as plt\n",
    "plt.plot(loss_list)\n",
    "plt.show() \n"
   ],
   "metadata": {
    "id": "vxWiD70-dfoq",
    "colab": {
     "base_uri": "https://localhost:8080/",
     "height": 448
    },
    "executionInfo": {
     "status": "ok",
     "timestamp": 1681732039410,
     "user_tz": -540,
     "elapsed": 6,
     "user": {
      "displayName": "Bonghee Hong",
      "userId": "17805293653427923937"
     }
    },
    "outputId": "a3dd0512-002c-4ef2-dff1-5eef057dd3e7"
   },
   "execution_count": null,
   "outputs": [
    {
     "output_type": "stream",
     "name": "stdout",
     "text": [
      "w=0.9853. b=0.0619, loss=0.0029\n"
     ]
    },
    {
     "output_type": "display_data",
     "data": {
      "text/plain": [
       "<Figure size 640x480 with 1 Axes>"
      ],
      "image/png": "[encoded data removed]"
     },
     "metadata": {}
    }
   ]
  },
  {
   "cell_type": "code",
   "source": [
    "#0602\n",
    "import numpy as np\n",
    "import matplotlib.pyplot as plt\n",
    "\n",
    "def MSE(y, t):\n",
    "    return np.sum((y-t)**2)/t.size\n",
    "\n",
    "x = np.arange(12) # [ 0,  1,  2,  3,  4,  5,  6,  7,  8,  9, 10, 11]\n",
    "t = np.arange(12)\n",
    "\n",
    "w = 0.5\n",
    "b = 0\n",
    "lr = 0.001  # 0.01, learning rate\n",
    "loss_list = [ ]\n",
    "\n",
    "train_size = t.size # 12\n",
    "batch_size = 4\n",
    "K = train_size// batch_size # 3\n",
    "\n",
    "for epoch in range(100):\n",
    "    loss = 0\n",
    "    for step in range(K):\n",
    "        mask = np.random.choice(train_size, batch_size)\n",
    "        x_batch = x[mask]\n",
    "        t_batch = t[mask]\n",
    "        \n",
    "        y = w*x_batch + b                               # calculate the output\n",
    "        dW = np.sum((y-t_batch)*x_batch)/(2*batch_size) # gradients\n",
    "        dB = np.sum((y-t_batch))/(2*batch_size)\n",
    "        \n",
    "        w = w - lr*dW   # update parameters\n",
    "        b = b - lr*dB\n",
    "        \n",
    "        y = w*x_batch + b       # calculate the output\n",
    "        loss += MSE(y, t_batch) # calculate MSE\n",
    "    loss /= K  # average loss\n",
    "    loss_list.append(loss)\n",
    "    if not epoch%10:\n",
    "        print(\"epoch={}: w={:>8.4f}. b={:>8.4f}, loss={}\".format(epoch, w, b, loss))\n",
    "\n",
    "print(\"w={:>8.4f}. b={:>8.4f}, loss={}\".format(w, b, loss))\n",
    "\n",
    "plt.plot(loss_list)\n",
    "plt.show() \n"
   ],
   "metadata": {
    "id": "Nl3AKpqVdjgK",
    "colab": {
     "base_uri": "https://localhost:8080/",
     "height": 630
    },
    "executionInfo": {
     "status": "ok",
     "timestamp": 1681732087320,
     "user_tz": -540,
     "elapsed": 827,
     "user": {
      "displayName": "Bonghee Hong",
      "userId": "17805293653427923937"
     }
    },
    "outputId": "01561543-3b98-4496-ce7a-356466e06bbb"
   },
   "execution_count": null,
   "outputs": [
    {
     "output_type": "stream",
     "name": "stdout",
     "text": [
      "epoch=0: w=  0.5353. b=  0.0046, loss=10.81862860060137\n",
      "epoch=10: w=  0.7534. b=  0.0329, loss=2.0976293848446814\n",
      "epoch=20: w=  0.8635. b=  0.0471, loss=0.19617798545036294\n",
      "epoch=30: w=  0.9212. b=  0.0548, loss=0.17643021810984502\n",
      "epoch=40: w=  0.9575. b=  0.0592, loss=0.05540704030477395\n",
      "epoch=50: w=  0.9736. b=  0.0610, loss=0.015777226515139724\n",
      "epoch=60: w=  0.9820. b=  0.0619, loss=0.003699273766967593\n",
      "epoch=70: w=  0.9860. b=  0.0622, loss=0.0020650020102169373\n",
      "epoch=80: w=  0.9884. b=  0.0622, loss=0.0017518694660110595\n",
      "epoch=90: w=  0.9902. b=  0.0622, loss=0.0008299559413471209\n",
      "w=  0.9911. b=  0.0621, loss=0.0012860317776235547\n"
     ]
    },
    {
     "output_type": "display_data",
     "data": {
      "text/plain": [
       "<Figure size 640x480 with 1 Axes>"
      ],
      "image/png": "[encoded data removed]"
     },
     "metadata": {}
    }
   ]
  },
  {
   "cell_type": "code",
   "source": [
    "#0701 - 자동 미분 계산\n",
    "import tensorflow as tf\n",
    "\n",
    "x = tf.Variable(2.0) # tf.Variable(2.0, trainable=True)\n",
    "y = tf.Variable(3.0) # tf.Variable(3.0, trainable=True)\n",
    "# 주어진 입력변수 x,y에 대한 그래디언트를 계산\n",
    "with tf.GradientTape() as tape:\n",
    "    z = x**2 + y**2\n",
    "dx, dy = tape.gradient(z, [x, y])\n",
    "# z' = 2x + 2y, 편미분 dx = 2x\n",
    "print('dx=', dx.numpy())\n",
    "print('dy=', dy.numpy())"
   ],
   "metadata": {
    "id": "45hXMUzgdoCC",
    "colab": {
     "base_uri": "https://localhost:8080/"
    },
    "executionInfo": {
     "status": "ok",
     "timestamp": 1681654600396,
     "user_tz": -540,
     "elapsed": 265,
     "user": {
      "displayName": "Bonghee Hong",
      "userId": "17805293653427923937"
     }
    },
    "outputId": "caf08a7b-c1ac-4125-9f95-c765f9340c83"
   },
   "execution_count": null,
   "outputs": [
    {
     "output_type": "stream",
     "name": "stdout",
     "text": [
      "dx= 4.0\n",
      "dy= 6.0\n"
     ]
    }
   ]
  },
  {
   "cell_type": "code",
   "source": [
    "#0702\n",
    "import tensorflow as tf\n",
    "\n",
    "x = tf.constant(2.0)\n",
    "y = tf.constant(3.0)\n",
    "# print(x)\n",
    "# gradient tape는 \"watched\"로 설정된 변수만 추적할 수 있다\n",
    "with tf.GradientTape(persistent=True) as tape:\n",
    "    tape.watch(x)\n",
    "    tape.watch(y)\n",
    "    z = x**2 + y**2\n",
    "dx = tape.gradient(z, x)\n",
    "dy = tape.gradient(z, y)\n",
    "#print(dx)\n",
    "print('dx=', dx.numpy())\n",
    "print('dy=', dy.numpy())"
   ],
   "metadata": {
    "id": "Ozy9G6gOdueb",
    "colab": {
     "base_uri": "https://localhost:8080/"
    },
    "executionInfo": {
     "status": "ok",
     "timestamp": 1681793262228,
     "user_tz": -540,
     "elapsed": 337,
     "user": {
      "displayName": "Bonghee Hong",
      "userId": "17805293653427923937"
     }
    },
    "outputId": "44eb57d9-baf7-467f-f7dc-80c7fc005e54"
   },
   "execution_count": 3,
   "outputs": [
    {
     "output_type": "stream",
     "name": "stdout",
     "text": [
      "tf.Tensor(2.0, shape=(), dtype=float32)\n",
      "tf.Tensor(4.0, shape=(), dtype=float32)\n",
      "dx= 4.0\n",
      "dy= 6.0\n"
     ]
    }
   ]
  },
  {
   "cell_type": "code",
   "source": [
    "#0703 - \"watched\" 사용\n",
    "import tensorflow as tf\n",
    "\n",
    "x = tf.Variable(2.0) # tf.Variable(2.0, trainable=True) - \"watched\"로 설정된 텐서이다 \n",
    "y = tf.Variable(3.0) # tf.Variable(3.0, trainable=True)\n",
    "# \"watched\"가 없으면 dx,dy는 none을 반환한다 \n",
    "with tf.GradientTape(watch_accessed_variables=False) as tape:\n",
    "    #tape.watch(x)\n",
    "    #tape.watch(y)\n",
    "    z = x**2 + y**2\n",
    "dx, dy = tape.gradient(z, [x, y]) # 편미분\n",
    "\n",
    "print('dx=', dx.numpy())\n",
    "print('dy=', dy.numpy())"
   ],
   "metadata": {
    "id": "zow6OA7Odxar",
    "colab": {
     "base_uri": "https://localhost:8080/"
    },
    "executionInfo": {
     "status": "ok",
     "timestamp": 1681793560035,
     "user_tz": -540,
     "elapsed": 491,
     "user": {
      "displayName": "Bonghee Hong",
      "userId": "17805293653427923937"
     }
    },
    "outputId": "7b157e22-5f8e-42e5-a28d-d15c5b53da3d"
   },
   "execution_count": 5,
   "outputs": [
    {
     "output_type": "stream",
     "name": "stdout",
     "text": [
      "dx= 4.0\n",
      "dy= 6.0\n"
     ]
    }
   ]
  },
  {
   "cell_type": "code",
   "source": [
    "#0704 - 2차 미분\n",
    "import tensorflow as tf\n",
    "\n",
    "x = tf.Variable(3.0)\n",
    "\n",
    "with tf.GradientTape() as tape2:\n",
    "    with tf.GradientTape() as tape1:\n",
    "        y = x**3\n",
    "    dy = tape1.gradient(y, x) # dy = 3x**2\n",
    "dy2 = tape2.gradient(dy, x) # dy2 = 6x\n",
    "print('dy=', dy.numpy())\n",
    "print('dy2=', dy2.numpy())\n"
   ],
   "metadata": {
    "id": "NCdlUeJFd1kK",
    "colab": {
     "base_uri": "https://localhost:8080/"
    },
    "executionInfo": {
     "status": "ok",
     "timestamp": 1681793746893,
     "user_tz": -540,
     "elapsed": 360,
     "user": {
      "displayName": "Bonghee Hong",
      "userId": "17805293653427923937"
     }
    },
    "outputId": "54444550-eb4d-4ca8-934e-cb87c80470f0"
   },
   "execution_count": 6,
   "outputs": [
    {
     "output_type": "stream",
     "name": "stdout",
     "text": [
      "dy= 27.0\n",
      "dy2= 18.0\n"
     ]
    }
   ]
  },
  {
   "cell_type": "code",
   "source": [
    "# step 08 - 텐서플로 단순 선형 회귀\n",
    "#0801 - 자동 미분 계산 2 : y = xw + b의 가중치 w, b를 손실함수를 사용한 경사하강법으로 구현 \n",
    "import numpy as np\n",
    "import tensorflow as tf\n",
    "import matplotlib.pyplot as plt\n",
    "\n",
    "x = np.arange(12)\n",
    "t = np.arange(12)\n",
    "#print(x)\n",
    "#x = tf.convert_to_tensor(x, dtype=tf.float32)\n",
    "#t = tf.convert_to_tensor(t, dtype=tf.float32)\n",
    "\n",
    "w = tf.Variable(0.5)\n",
    "b = tf.Variable(0.0)\n",
    "lr = 0.001   # learning rate\n",
    "\n",
    "loss_list = [ ]  # for graph \n",
    "for epoch in range(100):   \n",
    "    with tf.GradientTape() as tape:# y, loss를 tape에 기록 \n",
    "        y = x*w + b # 단순 선형 회귀 모델 \n",
    "        loss = tf.reduce_mean(tf.square(y - t))\n",
    "    loss_list.append(loss.numpy())\n",
    "\n",
    "    dW, dB = tape.gradient(loss, [w, b]) # 경사 계산\n",
    "    w.assign_sub(lr * dW) # w = w + x * lr * error 갱신 - w를 갱신 -> 하강법\n",
    "    b.assign_sub(lr * dB)\n",
    "##    if not epoch%10:\n",
    "##        print(\"epoch={}: w={:>.4f}. b={:>.4f}, loss={}\".format(\n",
    "##               epoch, w.numpy(), b.numpy(), loss.numpy()))\n",
    "\n",
    "print(\"w={:>.4f}. b={:>.4f}, loss={}\".format(w.numpy(), b.numpy(), loss.numpy()))\n",
    "\n",
    "plt.plot(loss_list)\n",
    "plt.show()\n"
   ],
   "metadata": {
    "id": "MjLo4Mqjd4Dr",
    "colab": {
     "base_uri": "https://localhost:8080/",
     "height": 466
    },
    "executionInfo": {
     "status": "ok",
     "timestamp": 1681793947705,
     "user_tz": -540,
     "elapsed": 2089,
     "user": {
      "displayName": "Bonghee Hong",
      "userId": "17805293653427923937"
     }
    },
    "outputId": "19c317c0-432f-4cba-9b9f-3e3be41ca0b7"
   },
   "execution_count": 7,
   "outputs": [
    {
     "output_type": "stream",
     "name": "stdout",
     "text": [
      "[ 0  1  2  3  4  5  6  7  8  9 10 11]\n",
      "w=0.9919. b=0.0610, loss=0.001054731197655201\n"
     ]
    },
    {
     "output_type": "display_data",
     "data": {
      "text/plain": [
       "<Figure size 640x480 with 1 Axes>"
      ],
      "image/png": "[encoded data removed]"
     },
     "metadata": {}
    }
   ]
  },
  {
   "cell_type": "code",
   "source": [
    "#0802 - 미니배치에 의한 확률적 경사하강법 \n",
    "# 확률적 경사하강법, 미니배치 경사하강법 구글링으로 공부하기 \n",
    "# 구글링: https://yhyun225.tistory.com/7\n",
    "# 구글링: https://skyil.tistory.com/68\n",
    "import numpy as np\n",
    "import tensorflow as tf\n",
    "import matplotlib.pyplot as plt\n",
    "\n",
    "x = np.arange(12)\n",
    "t = np.arange(12)\n",
    "\n",
    "w = tf.Variable(0.5)\n",
    "b = tf.Variable(0.0)\n",
    "lr= 0.001   # learning rate, 0.0001\n",
    "\n",
    "train_size = x.size # 12\n",
    "batch_size = 4 # mini-batch\n",
    "K = train_size// batch_size\n",
    "\n",
    "loss_list = [ ]\n",
    "for epoch in range(100):\n",
    "    batch_loss = 0.0\n",
    "    for step in range(K): # 4번 돈다\n",
    "        mask = np.random.choice(train_size, batch_size)\n",
    "        x_batch = x[mask] # stochastic\n",
    "        t_batch = t[mask]\n",
    "        \n",
    "        with tf.GradientTape() as tape:\n",
    "            y = w*x_batch + b\n",
    "            loss = tf.reduce_mean(tf.square(y - t_batch))\n",
    "\n",
    "        dW, dB = tape.gradient(loss, [w, b])\n",
    "        w.assign_sub(lr * dW)\n",
    "        b.assign_sub(lr * dB)\n",
    "\n",
    "        batch_loss += loss.numpy() # pre-update loss\n",
    "    batch_loss /= K #  average loss\n",
    "    loss_list.append(batch_loss) \n",
    "\n",
    "##    if not epoch%10:\n",
    "##        print(\"epoch={}: w={:>.4f}. b={:>.4f}, batch_loss={}\".format(\n",
    "##               epoch, w.numpy(), b.numpy(), batch_loss))\n",
    "\n",
    "print(\"w={:>.4f}. b={:>.4f}, batch_loss={}\".format(w.numpy(), b.numpy(), batch_loss))\n",
    "\n",
    "plt.plot(loss_list)\n",
    "plt.show()\n"
   ],
   "metadata": {
    "id": "ejWEjO2sd7Wz",
    "colab": {
     "base_uri": "https://localhost:8080/",
     "height": 448
    },
    "executionInfo": {
     "status": "ok",
     "timestamp": 1681798698254,
     "user_tz": -540,
     "elapsed": 2346,
     "user": {
      "displayName": "Bonghee Hong",
      "userId": "17805293653427923937"
     }
    },
    "outputId": "d433dab9-0d51-44e9-df19-fd5efa524a63"
   },
   "execution_count": 8,
   "outputs": [
    {
     "output_type": "stream",
     "name": "stdout",
     "text": [
      "w=0.9924. b=0.0559, batch_loss=0.0008884961328779658\n"
     ]
    },
    {
     "output_type": "display_data",
     "data": {
      "text/plain": [
       "<Figure size 640x480 with 1 Axes>"
      ],
      "image/png": "[encoded data removed]"
     },
     "metadata": {}
    }
   ]
  },
  {
   "cell_type": "code",
   "source": [
    "x = tf.linspace(-10.0, 10.0, 200+1)\n",
    "\n",
    "with tf.GradientTape() as tape:\n",
    "  tape.watch(x)\n",
    "  y = tf.nn.sigmoid(x)\n",
    "\n",
    "dy_dx = tape.gradient(y, x)\n",
    "plt.plot(x, y, label='y')\n",
    "plt.plot(x, dy_dx, label='dy/dx')\n",
    "plt.legend()\n",
    "_ = plt.xlabel('x')"
   ],
   "metadata": {
    "colab": {
     "base_uri": "https://localhost:8080/",
     "height": 449
    },
    "id": "TpuzMIa6BvPU",
    "executionInfo": {
     "status": "ok",
     "timestamp": 1681798944701,
     "user_tz": -540,
     "elapsed": 1094,
     "user": {
      "displayName": "Bonghee Hong",
      "userId": "17805293653427923937"
     }
    },
    "outputId": "27bc4098-3f2c-4b14-8620-3360bec5e729"
   },
   "execution_count": 9,
   "outputs": [
    {
     "output_type": "display_data",
     "data": {
      "text/plain": [
       "<Figure size 640x480 with 1 Axes>"
      ],
      "image/png": "[encoded data removed]"
     },
     "metadata": {}
    }
   ]
  },
  {
   "cell_type": "code",
   "source": [
    "#0901 - step09 - 다변수 선형 회귀 > 2변수 선형 모델 MSE\n",
    "import numpy as np\n",
    "import tensorflow as tf\n",
    "\n",
    "##def MSE(y, t):\n",
    "##    return tf.reduce_mean(tf.square(y - t)) # (y - t)**2\n",
    "MSE = tf.keras.losses.MeanSquaredError()\n",
    "\n",
    "train_data = np.array([ # t = 1*x1 + 2*x2 + 3\n",
    "#  x1, x2, t      \n",
    " [ 1,  0,  4],\n",
    " [ 2,  0,  5],\n",
    " [ 3,  0,  6],\n",
    " [ 4,  0,  7],\n",
    " [ 1,  1,  6],\n",
    " [ 2,  1,  7],\n",
    " [ 3,  1,  8],\n",
    " [ 4,  1,  9]], dtype=np.float32)\n",
    "\n",
    "X = train_data[:, :-1] # 슬라이싱\n",
    "t = train_data[:, -1:]  # 슬라이싱\n",
    "#X = tf.convert_to_tensor(X, dtype=tf.float32)\n",
    "#t = tf.convert_to_tensor(t, dtype=tf.float32)\n",
    "print(\"X=\", X)\n",
    "print(\"t=\", t)\n",
    "\n",
    "tf.random.set_seed(1) # 난수열 초기화\n",
    "W = tf.Variable(tf.random.normal(shape=[2, 1]), )\n",
    "b = tf.Variable(tf.random.normal(shape=[1]))\n",
    "##W = tf.Variable([[0.5],[0.5]], dtype=tf.float32)\n",
    "##b = tf.Variable(0.0)\n",
    "print(\"W=\", W.numpy()) # w[0] = 1, w[2] = 2\n",
    "print(\"b=\", b.numpy()) # b = 3 << t = 1 * x1 + 2 * x2 + 3 이므로 \n",
    "\n",
    "y = tf.matmul(X, W) + b #  y = x * w + b\n",
    "print(\"y=\", y.numpy())\n",
    "\n",
    "loss = MSE(y, t)\n",
    "print(\"MSE(y, t)=\", loss.numpy())\n"
   ],
   "metadata": {
    "id": "TxkDwNpud-Rb",
    "colab": {
     "base_uri": "https://localhost:8080/"
    },
    "executionInfo": {
     "status": "ok",
     "timestamp": 1681800020231,
     "user_tz": -540,
     "elapsed": 402,
     "user": {
      "displayName": "Bonghee Hong",
      "userId": "17805293653427923937"
     }
    },
    "outputId": "60b5be93-7810-41f8-b3ff-a350f6e31ad3"
   },
   "execution_count": 11,
   "outputs": [
    {
     "output_type": "stream",
     "name": "stdout",
     "text": [
      "X= [[1. 0.]\n",
      " [2. 0.]\n",
      " [3. 0.]\n",
      " [4. 0.]\n",
      " [1. 1.]\n",
      " [2. 1.]\n",
      " [3. 1.]\n",
      " [4. 1.]]\n",
      "t= [[4.]\n",
      " [5.]\n",
      " [6.]\n",
      " [7.]\n",
      " [6.]\n",
      " [7.]\n",
      " [8.]\n",
      " [9.]]\n",
      "W= [[-1.1012203]\n",
      " [ 1.5457517]]\n",
      "b= [0.40308788]\n",
      "y= [[-0.6981324 ]\n",
      " [-1.7993526 ]\n",
      " [-2.900573  ]\n",
      " [-4.001793  ]\n",
      " [ 0.8476193 ]\n",
      " [-0.25360093]\n",
      " [-1.3548213 ]\n",
      " [-2.4560416 ]]\n",
      "MSE(y, t)= 70.80983\n"
     ]
    }
   ]
  },
  {
   "cell_type": "code",
   "source": [
    "#0902 - 2변수 선형 회귀\n",
    "# 목표값에 대하여 경사하강법으로 훈련 데이터 학습 목표 값과 비교 \n",
    "import numpy as np\n",
    "import tensorflow as tf\n",
    "import matplotlib.pyplot as plt\n",
    "\n",
    "MSE = tf.keras.losses.MeanSquaredError()\n",
    "\n",
    "train_data = np.array([ # t = 1*x1 + 2*x2 + 3\n",
    "#  x1, x2, t      \n",
    " [ 1,  0,  4],\n",
    " [ 2,  0,  5],\n",
    " [ 3,  0,  6],\n",
    " [ 4,  0,  7],\n",
    " [ 1,  1,  6],\n",
    " [ 2,  1,  7],\n",
    " [ 3,  1,  8],\n",
    " [ 4,  1,  9]], dtype=np.float32)\n",
    "\n",
    "X = train_data[:, :-1]\n",
    "t = train_data[:, -1:]\n",
    "\n",
    "tf.random.set_seed(1) # 난수열 초기화\n",
    "W = tf.Variable(tf.random.normal(shape=[2, 1]), )\n",
    "b = tf.Variable(tf.random.normal(shape=[1]))\n",
    "lr = 0.01  # learning rate, 0.001\n",
    "\n",
    "loss_list = [ ]\n",
    "for epoch in range(2000):   \n",
    "    with tf.GradientTape() as tape:\n",
    "        y = tf.matmul(X, W) + b\n",
    "        loss = MSE(y, t)\n",
    "    loss_list.append(loss.numpy())\n",
    "\n",
    "    dW, dB = tape.gradient(loss, [W, b])\n",
    "    W.assign_sub(lr * dW)\n",
    "    b.assign_sub(lr * dB)\n",
    "\n",
    "##    if not epoch%100:\n",
    "##        print(\"epoch={}: loss={}\".format(epoch, loss.numpy()))\n",
    "\n",
    "print(\"W={}. b={}, loss={}\".format(W.numpy(), b.numpy(), loss.numpy()))\n",
    "\n",
    "plt.plot(loss_list)\n",
    "plt.show()\n"
   ],
   "metadata": {
    "id": "-qNJVvyweCGK",
    "colab": {
     "base_uri": "https://localhost:8080/",
     "height": 466
    },
    "executionInfo": {
     "status": "ok",
     "timestamp": 1681800367954,
     "user_tz": -540,
     "elapsed": 9863,
     "user": {
      "displayName": "Bonghee Hong",
      "userId": "17805293653427923937"
     }
    },
    "outputId": "49e0e613-b0db-4906-be87-e16341b8b38f"
   },
   "execution_count": 13,
   "outputs": [
    {
     "output_type": "stream",
     "name": "stdout",
     "text": [
      "W=[[1.0032761]\n",
      " [2.005639 ]]. b=[2.9875078], loss=2.3675645934417844e-05\n"
     ]
    },
    {
     "output_type": "display_data",
     "data": {
      "text/plain": [
       "<Figure size 640x480 with 1 Axes>"
      ],
      "image/png": "[encoded data removed]"
     },
     "metadata": {}
    }
   ]
  },
  {
   "cell_type": "code",
   "source": [
    "#0903 - 2변수 선형 회귀의 미니배치 학습\n",
    "import numpy as np\n",
    "import tensorflow as tf\n",
    "import matplotlib.pyplot as plt\n",
    "\n",
    "MSE = tf.keras.losses.MeanSquaredError()\n",
    "\n",
    "train_data = np.array([ # t = 1*x1 + 2*x2 + 3\n",
    "#  x1, x2, t      \n",
    " [ 1,  0,  4],\n",
    " [ 2,  0,  5],\n",
    " [ 3,  0,  6],\n",
    " [ 4,  0,  7],\n",
    " [ 1,  1,  6],\n",
    " [ 2,  1,  7],\n",
    " [ 3,  1,  8],\n",
    " [ 4,  1,  9]], dtype=np.float32)\n",
    "\n",
    "X = train_data[:, :-1]\n",
    "t = train_data[:, -1:]\n",
    "\n",
    "tf.random.set_seed(1)\n",
    "W = tf.Variable(tf.random.normal(shape=[2, 1]), )\n",
    "b = tf.Variable(tf.random.normal(shape=[1]))\n",
    "lr = 0.01   # learning rate, 0.001\n",
    "\n",
    "train_size = X.shape[0]\n",
    "batch_size = 4\n",
    "K = train_size// batch_size\n",
    "\n",
    "loss_list = [ ]\n",
    "for epoch in range(1000):\n",
    "    batch_loss = 0.0\n",
    "    for step in range(K):\n",
    "      # 미니배치로 확률적 경사 하강법 구현 - 랜덤 샘플링\n",
    "        mask = np.random.choice(train_size, batch_size)\n",
    "        x_batch = X[mask] # 미니 배치 데이터를 추출하여 계산 \n",
    "        t_batch = t[mask]\n",
    "        \n",
    "        with tf.GradientTape() as tape:\n",
    "            y = tf.matmul(x_batch, W) + b\n",
    "            loss = MSE(y, t_batch)\n",
    "            \n",
    "        batch_loss += loss.numpy()\n",
    "        \n",
    "        dW, dB = tape.gradient(loss, [W, b])\n",
    "        W.assign_sub(lr * dW)\n",
    "        b.assign_sub(lr * dB)\n",
    "        \n",
    "    batch_loss /= K    \n",
    "    loss_list.append(batch_loss) # average loss    \n",
    "##    if not epoch%100:\n",
    "##            print(\"epoch={}, batch_loss={}\".format(epoch, batch_loss))\n",
    "\n",
    "print(\"W={}. b={}, loss={}\".format(W.numpy(), b.numpy(), batch_loss))\n",
    "\n",
    "plt.plot(loss_list)\n",
    "plt.show()\n"
   ],
   "metadata": {
    "id": "T7NRKwBqeEXb",
    "colab": {
     "base_uri": "https://localhost:8080/",
     "height": 302
    },
    "executionInfo": {
     "status": "ok",
     "timestamp": 1672214194700,
     "user_tz": -540,
     "elapsed": 6760,
     "user": {
      "displayName": "Bonghee Hong",
      "userId": "17805293653427923937"
     }
    },
    "outputId": "ee86cf1e-ba24-47da-80f3-736f69987151",
    "ExecuteTime": {
     "start_time": "2023-04-19T17:29:26.816126Z",
     "end_time": "2023-04-19T17:29:47.843374Z"
    }
   },
   "execution_count": 1,
   "outputs": [
    {
     "name": "stdout",
     "output_type": "stream",
     "text": [
      "W=[[1.0030828]\n",
      " [2.0054665]]. b=[2.9877462], loss=2.7092167329101358e-05\n"
     ]
    },
    {
     "data": {
      "text/plain": "<Figure size 640x480 with 1 Axes>",
      "image/png": "[encoded data removed]"
     },
     "metadata": {},
     "output_type": "display_data"
    }
   ]
  },
  {
   "cell_type": "code",
   "source": [
    "#1001 - tf.keras.optimizers를 이용한 학습 > 함수 최적화\n",
    "# 교재 69 ~ 70 공부한다 \n",
    "# loss = x**2 + y ** 2의 최소해를 구하는 문제이다 \n",
    "import tensorflow as tf\n",
    "import matplotlib.pyplot as plt\n",
    "\n",
    "x = tf.Variable(2.0)\n",
    "y = tf.Variable(3.0)\n",
    "\n",
    "opt = tf.keras.optimizers.SGD(learning_rate=0.1) # learning_rate=0.001\n",
    "##opt = tf.keras.optimizers.Adagrad(0.1) \n",
    "##opt = tf.keras.optimizers.Adam(0.1) \n",
    "##opt = tf.keras.optimizers.RMSprop(0.1)\n",
    "\n",
    "loss_list = [ ]\n",
    "for epoch in range(100):\n",
    "        with tf.GradientTape() as tape:\n",
    "                loss = x**2 + y**2               \n",
    "        loss_list.append(loss.numpy())\n",
    "        \n",
    "##        grads = tape.gradient(loss, [x, y])\n",
    "##        grads_list = [g for g in grads]\n",
    "##        grads_and_vars = zip(grads_list, [x, y])\n",
    "        \n",
    "        dx, dy = tape.gradient(loss, [x, y])\n",
    "        grads_and_vars = zip([dx, dy], [x, y]) # 순서쌍을 묶는다 \n",
    "        opt.apply_gradients(grads_and_vars) # 최적화 수행\n",
    "\n",
    "##        if not epoch%10:\n",
    "##                print(\"epoch={}: loss={}\".format(epoch, loss.numpy()))\n",
    "                \n",
    "print (\"x={:.5f}, y={:.5f}, loss={}\".format(\n",
    "        x.numpy(), y.numpy(), loss.numpy()))\t\n",
    "plt.plot(loss_list)\n",
    "plt.show()\n",
    "\n",
    "\n"
   ],
   "metadata": {
    "id": "tgPvBoYOeHLz",
    "colab": {
     "base_uri": "https://localhost:8080/",
     "height": 448
    },
    "executionInfo": {
     "status": "ok",
     "timestamp": 1681801433869,
     "user_tz": -540,
     "elapsed": 2612,
     "user": {
      "displayName": "Bonghee Hong",
      "userId": "17805293653427923937"
     }
    },
    "outputId": "e9c8fd2f-56f4-4f54-84fe-f1b4f3e78fb6"
   },
   "execution_count": 14,
   "outputs": [
    {
     "output_type": "stream",
     "name": "stdout",
     "text": [
      "x=0.00000, y=0.00000, loss=8.428705744119335e-19\n"
     ]
    },
    {
     "output_type": "display_data",
     "data": {
      "text/plain": [
       "<Figure size 640x480 with 1 Axes>"
      ],
      "image/png": "[encoded data removed]"
     },
     "metadata": {}
    }
   ]
  },
  {
   "cell_type": "code",
   "source": [
    "#1002 - 함수 최적화 2\n",
    "import tensorflow as tf\n",
    "import matplotlib.pyplot as plt\n",
    "\n",
    "x = tf.Variable(2.0)\n",
    "y = tf.Variable(3.0)\n",
    "\n",
    "opt = tf.keras.optimizers.SGD(learning_rate=0.1) # learning_rate=0.001\n",
    "##opt = tf.keras.optimizers.Adagrad(0.1) \n",
    "##opt = tf.keras.optimizers.Adam(0.1) \n",
    "##opt = tf.keras.optimizers.RMSprop(0.1)\n",
    "\n",
    "loss_list = [ ]\n",
    "for epoch in range(100):\n",
    "        # 람다식은 매개변수 없는 수식\n",
    "        loss = lambda : x**2+ y**2   # function\n",
    "        loss_list.append(loss().numpy())\n",
    "        # 함수 loss에서 변수 리스트 [x,y] 최적화 \n",
    "        opt.minimize(loss, var_list=[x, y])\n",
    "\t\n",
    "        if not epoch%10:\n",
    "                print(\"epoch={}: loss={}\".format(epoch, loss().numpy()))\n",
    "                \n",
    "print (\"x={:.5f}, y={:.5f}, loss={}\".format(\n",
    "        x.numpy(), y.numpy(), loss().numpy()))\n",
    "\n",
    "plt.plot(loss_list)\n",
    "plt.show()\n"
   ],
   "metadata": {
    "id": "NLvRaIeLeKc7",
    "colab": {
     "base_uri": "https://localhost:8080/",
     "height": 630
    },
    "executionInfo": {
     "status": "ok",
     "timestamp": 1681801672759,
     "user_tz": -540,
     "elapsed": 878,
     "user": {
      "displayName": "Bonghee Hong",
      "userId": "17805293653427923937"
     }
    },
    "outputId": "176a626b-584e-459a-f418-744cca6b1712"
   },
   "execution_count": 15,
   "outputs": [
    {
     "output_type": "stream",
     "name": "stdout",
     "text": [
      "epoch=0: loss=8.320000648498535\n",
      "epoch=10: loss=0.09592308104038239\n",
      "epoch=20: loss=0.001105917850509286\n",
      "epoch=30: loss=1.275036447623279e-05\n",
      "epoch=40: loss=1.4700168549097725e-07\n",
      "epoch=50: loss=1.6948142889106066e-09\n",
      "epoch=60: loss=1.9539881865315856e-11\n",
      "epoch=70: loss=2.25279511842022e-13\n",
      "epoch=80: loss=2.5972956661649612e-15\n",
      "epoch=90: loss=2.9944778589921956e-17\n",
      "x=0.00000, y=0.00000, loss=5.394372027788135e-19\n"
     ]
    },
    {
     "output_type": "display_data",
     "data": {
      "text/plain": [
       "<Figure size 640x480 with 1 Axes>"
      ],
      "image/png": "[encoded data removed]"
     },
     "metadata": {}
    }
   ]
  },
  {
   "cell_type": "code",
   "source": [
    "#1003 - 2변수 선형 회귀 : MSE에 의한 경사 하강법\n",
    "import numpy as np\n",
    "import tensorflow as tf\n",
    "import matplotlib.pyplot as plt\n",
    "\n",
    "MSE = tf.keras.losses.MeanSquaredError()\n",
    "def mse_loss():\n",
    "    y = tf.matmul(X, W) + b\n",
    "    return MSE(y, t)\n",
    "##    return tf.reduce_mean(tf.square(y - t))\n",
    "\n",
    "train_data = np.array([ # t = 1*x1 + 2*x2 + 3\n",
    "#  x1, x2, t      \n",
    " [ 1,  0,  4],\n",
    " [ 2,  0,  5],\n",
    " [ 3,  0,  6],\n",
    " [ 4,  0,  7],\n",
    " [ 1,  1,  6],\n",
    " [ 2,  1,  7],\n",
    " [ 3,  1,  8],\n",
    " [ 4,  1,  9]], dtype=np.float32)\n",
    "\n",
    "X = train_data[:, :-1]\n",
    "t = train_data[:, -1:]\n",
    "\n",
    "tf.random.set_seed(1)\n",
    "W = tf.Variable(tf.random.normal(shape=[2, 1]), )\n",
    "b = tf.Variable(tf.random.normal(shape=[1]))\n",
    "\n",
    "#opt = tf.keras.optimizers.SGD(learning_rate=0.01)\n",
    "##opt = tf.keras.optimizers.Adagrad(0.01)\n",
    "##opt = tf.keras.optimizers.Adam(0.01) \n",
    "opt = tf.keras.optimizers.RMSprop(0.01)\n",
    "     \n",
    "loss_list = [ ]\n",
    "for epoch in range(1000):   \n",
    "    opt.minimize(mse_loss, var_list= [W, b])\n",
    "    \n",
    "    loss = mse_loss().numpy()\n",
    "    loss_list.append(loss)\n",
    "##    if not epoch % 100:\n",
    "##            print (\"epoch={}: loss={:.5f}\".format(epoch, loss))\t\n",
    "                    \n",
    "print (\"W={}, b={}, loss={}\".format(\n",
    "        W.numpy(), b.numpy(), loss))\t\n",
    "plt.plot(loss_list)\n",
    "plt.show()\n"
   ],
   "metadata": {
    "id": "Ze2M8lOyebXS",
    "colab": {
     "base_uri": "https://localhost:8080/",
     "height": 466
    },
    "executionInfo": {
     "status": "ok",
     "timestamp": 1681801977647,
     "user_tz": -540,
     "elapsed": 10401,
     "user": {
      "displayName": "Bonghee Hong",
      "userId": "17805293653427923937"
     }
    },
    "outputId": "2ecbd848-8816-4e6c-c772-0fd982ac2caf"
   },
   "execution_count": 16,
   "outputs": [
    {
     "output_type": "stream",
     "name": "stdout",
     "text": [
      "W=[[0.995    ]\n",
      " [1.9950006]], b=[2.9950001], loss=0.00043748487951233983\n"
     ]
    },
    {
     "output_type": "display_data",
     "data": {
      "text/plain": [
       "<Figure size 640x480 with 1 Axes>"
      ],
      "image/png": "[encoded data removed]"
     },
     "metadata": {}
    }
   ]
  },
  {
   "cell_type": "code",
   "source": [
    "#1004\n",
    "import numpy as np\n",
    "import tensorflow as tf\n",
    "import matplotlib.pyplot as plt\n",
    "\n",
    "MSE = tf.keras.losses.MeanSquaredError()\n",
    "def mse_loss():\n",
    "    y = tf.matmul(x_batch, W) + b\n",
    "    return MSE(y, t_batch)\n",
    "##    return tf.reduce_mean(tf.square(y - t_batch))\n",
    "\n",
    "train_data = np.array([ # t = 1*x1 + 2*x2 + 3\n",
    "#  x1, x2, t      \n",
    " [ 1,  0,  4],\n",
    " [ 2,  0,  5],\n",
    " [ 3,  0,  6],\n",
    " [ 4,  0,  7],\n",
    " [ 1,  1,  6],\n",
    " [ 2,  1,  7],\n",
    " [ 3,  1,  8],\n",
    " [ 4,  1,  9]], dtype=np.float32)\n",
    "\n",
    "X = train_data[:, :-1]\n",
    "t = train_data[:, -1:]\n",
    "\n",
    "tf.random.set_seed(1)\n",
    "W = tf.Variable(tf.random.normal(shape=[2, 1]), )\n",
    "b = tf.Variable(tf.random.normal(shape=[1]))\n",
    "\n",
    "opt = tf.keras.optimizers.SGD(learning_rate=0.01)\n",
    "##opt = tf.keras.optimizers.Adagrad(0.01)\n",
    "##opt = tf.keras.optimizers.Adam(0.01) \n",
    "##opt = tf.keras.optimizers.RMSprop(0.01)\n",
    "\n",
    "train_size = X.shape[0]\n",
    "batch_size = 4\n",
    "K = train_size// batch_size\n",
    "\n",
    "loss_list = [ ]\n",
    "for epoch in range(1000):\n",
    "    batch_loss = 0.0\n",
    "    for  step  in range(K):\n",
    "        mask = np.random.choice(train_size, batch_size)\n",
    "        x_batch = X[mask]\n",
    "        t_batch = t[mask]\n",
    "        \n",
    "        opt.minimize(mse_loss, var_list= [W, b])\n",
    "        loss = mse_loss().numpy()\n",
    "        batch_loss += loss\n",
    "        \n",
    "    batch_loss /= K # average loss\n",
    "    loss_list.append(batch_loss)\n",
    "##    if not epoch % 100:\n",
    "##            print (\"epoch={}: batch_loss={:.5f}\".format(epoch, batch_loss))\t\n",
    "                    \n",
    "print (\"W={}, b={}, loss={}\".format(\n",
    "        W.numpy(), b.numpy(), batch_loss))\t\n",
    "plt.plot(loss_list)\n",
    "plt.show()\n"
   ],
   "metadata": {
    "id": "pwsflOgHeebi"
   },
   "execution_count": null,
   "outputs": []
  },
  {
   "cell_type": "code",
   "source": [
    "#1101 - 다항식 회귀  n= 1인 다항식: y = wx + b\n",
    "import tensorflow as tf\n",
    "import numpy as np\n",
    "import matplotlib.pyplot as plt\n",
    "\n",
    "MSE = tf.keras.losses.MeanSquaredError()\n",
    "def mse_loss():\n",
    "     y = x*w + b # y = 3x - 10\n",
    "     return MSE(y, t) # tf.reduce_mean(tf.square(y - t))\n",
    "\n",
    "EPOCH = 1000\n",
    "train_size = 20\n",
    "\n",
    "# create the train data\n",
    "tf.random.set_seed(1) # np.random.seed(1)\n",
    "x = tf.linspace(0.0, 10.0, num=train_size) #np.linspace(0.0, 10.0, num=20)\n",
    "w_true, b_true = 3, -10  # truth, line parameters\n",
    "t = x*w_true + b_true + tf.random.normal([train_size], mean=0.0, stddev=2.0)\n",
    "print(x)\n",
    "print(t)\n",
    "# train parameters\n",
    "w = tf.Variable(tf.random.normal([]))\n",
    "b = tf.Variable(tf.random.normal([]))\n",
    "\n",
    "opt = tf.keras.optimizers.SGD(learning_rate=0.01)\n",
    "\n",
    "loss_list = [ ]\n",
    "for epoch in range(EPOCH):   \n",
    "    opt.minimize(mse_loss, var_list= [w, b]) # 손실함수 mse_loss에서 [w,b]로 최적화한다 \n",
    "     \n",
    "    loss = mse_loss().numpy()\n",
    "    loss_list.append(loss)\n",
    "    if not epoch%100:\n",
    "        print(\"epoch={}: loss={}\".format(epoch, loss))\n",
    "\n",
    "print(\"w={:>.4f}. b={:>.4f}, loss={}\".format(w.numpy(), b.numpy(), loss))\n",
    "\n",
    "plt.plot(loss_list)\n",
    "plt.show()\n",
    "\n",
    "plt.scatter(x, t.numpy())  # train data plot\n",
    "\n",
    "w_pred, b_pred = w.numpy(), b.numpy() # predicted, line parameters\n",
    "t_pred= x*w_pred + b_pred \n",
    "plt.plot(x, t_pred, 'r-')\n",
    "plt.show()\n"
   ],
   "metadata": {
    "id": "WqJk07LBehiM",
    "colab": {
     "base_uri": "https://localhost:8080/",
     "height": 1000
    },
    "executionInfo": {
     "status": "ok",
     "timestamp": 1681802439188,
     "user_tz": -540,
     "elapsed": 8285,
     "user": {
      "displayName": "Bonghee Hong",
      "userId": "17805293653427923937"
     }
    },
    "outputId": "2285a1ac-8aef-4c7a-f997-4db1c877470b",
    "ExecuteTime": {
     "start_time": "2023-04-19T17:44:04.416873Z",
     "end_time": "2023-04-19T17:44:13.323657Z"
    }
   },
   "execution_count": 2,
   "outputs": [
    {
     "name": "stdout",
     "output_type": "stream",
     "text": [
      "tf.Tensor(\n",
      "[ 0.         0.5263158  1.0526316  1.5789474  2.1052632  2.631579\n",
      "  3.1578948  3.6842108  4.2105265  4.736842   5.263158   5.789474\n",
      "  6.3157897  6.8421054  7.3684216  7.8947372  8.421053   8.947369\n",
      "  9.473684  10.       ], shape=(20,), dtype=float32)\n",
      "tf.Tensor(\n",
      "[-12.20244     -5.32955     -6.0748167   -7.0224733   -6.1335545\n",
      "  -4.0675054   -0.35070002   0.6461116    1.515267     2.7694383\n",
      "   4.537489     5.9383698    8.25066      9.853376    12.470416\n",
      "  15.901402    17.822475    16.799154    17.781675    20.74665   ], shape=(20,), dtype=float32)\n",
      "epoch=0: loss=37.226837158203125\n",
      "epoch=100: loss=12.824580192565918\n",
      "epoch=200: loss=5.855210304260254\n",
      "epoch=300: loss=3.433419704437256\n",
      "epoch=400: loss=2.5918679237365723\n",
      "epoch=500: loss=2.299438953399658\n",
      "epoch=600: loss=2.197822093963623\n",
      "epoch=700: loss=2.162510871887207\n",
      "epoch=800: loss=2.1502411365509033\n",
      "epoch=900: loss=2.14597749710083\n",
      "w=3.1359. b=-10.9725, loss=2.144503593444824\n"
     ]
    },
    {
     "data": {
      "text/plain": "<Figure size 640x480 with 1 Axes>",
      "image/png": "[encoded data removed]"
     },
     "metadata": {},
     "output_type": "display_data"
    },
    {
     "data": {
      "text/plain": "<Figure size 640x480 with 1 Axes>",
      "image/png": "[encoded data removed]"
     },
     "metadata": {},
     "output_type": "display_data"
    }
   ]
  },
  {
   "cell_type": "code",
   "source": [
    "#1102 - n= 2의2차 함수 회귀\n",
    "import tensorflow as tf\n",
    "import numpy as np\n",
    "import matplotlib.pyplot as plt\n",
    "\n",
    "MSE = tf.keras.losses.MeanSquaredError()\n",
    "def mse_loss():\n",
    "     y = a*x**2 + b*x+c\n",
    "##     y = a*tf.pow(x, 2) + b**x + c\n",
    "     return MSE(y, t) # tf.reduce_mean(tf.square(y - t))\n",
    "\n",
    "EPOCH = 1000\n",
    "train_size = 20\n",
    "\n",
    "# create the train data\n",
    "tf.random.set_seed(1) # np.random.seed(1)\n",
    "x = tf.linspace(-5.0, 5.0, num=train_size)\n",
    "# 다항식 y = 3x**2 + 2x + 1에 대하여 학습\n",
    "a_true = tf.Variable(3.0)\n",
    "b_true = tf.Variable(2.0)\n",
    "c_true = tf.Variable(1.0)\n",
    "t = a_true*tf.pow(x, 2) + b_true*x+c_true\n",
    "t += tf.random.normal([train_size], mean=0.0, stddev = 2) # t 함수에 정규 분포 노이즈를 추가 \n",
    "#t = tf.add(t, np.random.normal(0, 2.0, train_size))\n",
    "\n",
    "a = tf.Variable(tf.random.normal([]))\n",
    "b = tf.Variable(tf.random.normal([]))\n",
    "c = tf.Variable(tf.random.normal([]))\n",
    "                \n",
    "opt = tf.keras.optimizers.SGD(learning_rate=0.001)\n",
    "#opt = tf.keras.optimizers.Adam(learning_rate=0.01)\n",
    "##opt = tf.keras.optimizers.RMSprop(0.01)\n",
    "\n",
    "loss_list = [ ]\n",
    "for epoch in range(EPOCH):   \n",
    "    opt.minimize(mse_loss, var_list= [a, b, c]) # 최적화  \n",
    "     \n",
    "    loss = mse_loss().numpy()\n",
    "    loss_list.append(loss)\n",
    "\n",
    "    if not epoch%100:\n",
    "        print(\"epoch={}: loss={}\".format(epoch, loss))      \n",
    "\n",
    "print(\"a={:>.4f}. b={:>.4f}, c={:>.4f}, loss={}\".format(\n",
    "       a.numpy(), b.numpy(), c.numpy(),loss))\n",
    "\n",
    "plt.plot(loss_list)\n",
    "plt.show()\n",
    "\n",
    "plt.scatter(x, t.numpy())\n",
    "\n",
    "t_pred = a*tf.pow(x, 2) + b*x + c # parabola curve\n",
    "plt.plot(x, t_pred, 'red')\n",
    "plt.show()\n"
   ],
   "metadata": {
    "id": "8LhDWPLLema2",
    "colab": {
     "base_uri": "https://localhost:8080/",
     "height": 1000
    },
    "executionInfo": {
     "status": "ok",
     "timestamp": 1681813073368,
     "user_tz": -540,
     "elapsed": 15914,
     "user": {
      "displayName": "Bonghee Hong",
      "userId": "17805293653427923937"
     }
    },
    "outputId": "6fc1e651-8999-4345-829d-6dd27628fec0",
    "ExecuteTime": {
     "start_time": "2023-04-19T17:48:01.678842Z",
     "end_time": "2023-04-19T17:48:12.149454Z"
    }
   },
   "execution_count": 3,
   "outputs": [
    {
     "name": "stdout",
     "output_type": "stream",
     "text": [
      "epoch=0: loss=544.3562622070312\n",
      "epoch=100: loss=4.419684410095215\n",
      "epoch=200: loss=2.8330256938934326\n",
      "epoch=300: loss=2.6601357460021973\n",
      "epoch=400: loss=2.5432913303375244\n",
      "epoch=500: loss=2.446032762527466\n",
      "epoch=600: loss=2.3645222187042236\n",
      "epoch=700: loss=2.2961995601654053\n",
      "epoch=800: loss=2.2389309406280518\n",
      "epoch=900: loss=2.1909260749816895\n",
      "a=3.0130. b=2.1439, c=0.8757, loss=2.151054859161377\n"
     ]
    },
    {
     "data": {
      "text/plain": "<Figure size 640x480 with 1 Axes>",
      "image/png": "[encoded data removed]"
     },
     "metadata": {},
     "output_type": "display_data"
    },
    {
     "data": {
      "text/plain": "<Figure size 640x480 with 1 Axes>",
      "image/png": "[encoded data removed]"
     },
     "metadata": {},
     "output_type": "display_data"
    }
   ]
  },
  {
   "cell_type": "code",
   "source": [
    "#1103 - n차 다항식 \n",
    "import tensorflow as tf\n",
    "import numpy as np\n",
    "import matplotlib.pyplot as plt\n",
    "\n",
    "MSE = tf.keras.losses.MeanSquaredError()\n",
    "def mse_loss():\n",
    "     y = tf.zeros_like(x)\n",
    "     for i in range(W.shape[0]):\n",
    "          y += W[i]*(x**(i+1)) # y = 3x**3 +2x**2+x+4\n",
    "     y += b # bias\n",
    "     return MSE(y, t) # tf.reduce_mean(tf.square(y - t))\n",
    "\n",
    "EPOCH = 5000\n",
    "train_size = 20\n",
    "\n",
    "# create the train data\n",
    "tf.random.set_seed(1)\n",
    "x = tf.linspace(-5.0, 5.0, num=train_size)\n",
    "\n",
    "w_true = tf.Variable([1.0, 2.0, 3.0])\n",
    "b_true = tf.Variable(4.0)    \n",
    "t = w_true[2]*x**3 + w_true[1]*x**2 + w_true[0]*x + b_true      \n",
    "t += tf.random.normal([train_size], mean=0.0, stddev = 30)\n",
    "\n",
    "# train variables -  훈련 변수 생성\n",
    "n = 4 # n-th polynomial curve\n",
    "W = tf.Variable(tf.random.normal([n]))\n",
    "b = tf.Variable(tf.random.normal([])) \n",
    "\n",
    "opt = tf.keras.optimizers.Adam(learning_rate=0.01)\n",
    "##opt = tf.keras.optimizers.RMSprop(0.01)\n",
    "\n",
    "loss_list = [ ]\n",
    "for epoch in range(EPOCH): \n",
    "    opt.minimize(mse_loss, var_list= [W, b])\n",
    "     \n",
    "    loss = mse_loss().numpy()\n",
    "    loss_list.append(loss)\n",
    "\n",
    "    if not epoch%100:\n",
    "        print(\"epoch={}: loss={}\".format(epoch, loss))\n",
    "        \n",
    "print(\"W={}. b={}, loss={}\".format(W.numpy(), b.numpy(),loss))\n",
    "plt.plot(loss_list)\n",
    "plt.show()\n",
    "\n",
    "plt.scatter(x, t.numpy())\n",
    "\n",
    "# polynomial curve\n",
    "t_pred = tf.zeros_like(x)\n",
    "for i in range(W.shape[0]): # n = W.shape[0] \n",
    "     t_pred += W[i]*(x**(i+1))\n",
    "t_pred += b # bias\n",
    "     \n",
    "plt.plot(x, t_pred, 'red')\n",
    "plt.show()\n"
   ],
   "metadata": {
    "id": "2E3Ke_jCenUL",
    "colab": {
     "base_uri": "https://localhost:8080/",
     "height": 1000
    },
    "executionInfo": {
     "status": "ok",
     "timestamp": 1681813437338,
     "user_tz": -540,
     "elapsed": 96409,
     "user": {
      "displayName": "Bonghee Hong",
      "userId": "17805293653427923937"
     }
    },
    "outputId": "606faa07-2e7a-47ea-f420-1a46edd9b7f1",
    "ExecuteTime": {
     "start_time": "2023-04-19T17:48:18.050397Z",
     "end_time": "2023-04-19T17:49:41.109357Z"
    }
   },
   "execution_count": 4,
   "outputs": [
    {
     "name": "stdout",
     "output_type": "stream",
     "text": [
      "epoch=0: loss=116886.953125\n",
      "epoch=100: loss=21675.734375\n",
      "epoch=200: loss=6637.4345703125\n",
      "epoch=300: loss=2749.078125\n",
      "epoch=400: loss=1326.5819091796875\n",
      "epoch=500: loss=889.1702880859375\n",
      "epoch=600: loss=774.9905395507812\n",
      "epoch=700: loss=743.7777709960938\n",
      "epoch=800: loss=728.99951171875\n",
      "epoch=900: loss=716.5150146484375\n",
      "epoch=1000: loss=704.068115234375\n",
      "epoch=1100: loss=691.460693359375\n",
      "epoch=1200: loss=678.7669067382812\n",
      "epoch=1300: loss=666.0794677734375\n",
      "epoch=1400: loss=653.4857177734375\n",
      "epoch=1500: loss=641.0645751953125\n",
      "epoch=1600: loss=628.8849487304688\n",
      "epoch=1700: loss=617.007080078125\n",
      "epoch=1800: loss=605.48046875\n",
      "epoch=1900: loss=594.3460693359375\n",
      "epoch=2000: loss=583.6339111328125\n",
      "epoch=2100: loss=573.3636474609375\n",
      "epoch=2200: loss=563.5482177734375\n",
      "epoch=2300: loss=554.1882934570312\n",
      "epoch=2400: loss=545.2794799804688\n",
      "epoch=2500: loss=536.8076171875\n",
      "epoch=2600: loss=528.7535400390625\n",
      "epoch=2700: loss=521.0923461914062\n",
      "epoch=2800: loss=513.7960205078125\n",
      "epoch=2900: loss=506.83294677734375\n",
      "epoch=3000: loss=500.1708984375\n",
      "epoch=3100: loss=493.77777099609375\n",
      "epoch=3200: loss=487.62255859375\n",
      "epoch=3300: loss=481.67633056640625\n",
      "epoch=3400: loss=475.9131774902344\n",
      "epoch=3500: loss=470.3116760253906\n",
      "epoch=3600: loss=464.853515625\n",
      "epoch=3700: loss=459.5254821777344\n",
      "epoch=3800: loss=454.3184509277344\n",
      "epoch=3900: loss=449.226806640625\n",
      "epoch=4000: loss=444.2491149902344\n",
      "epoch=4100: loss=439.38690185546875\n",
      "epoch=4200: loss=434.6436462402344\n",
      "epoch=4300: loss=430.02557373046875\n",
      "epoch=4400: loss=425.539306640625\n",
      "epoch=4500: loss=421.1925354003906\n",
      "epoch=4600: loss=416.99444580078125\n",
      "epoch=4700: loss=412.95147705078125\n",
      "epoch=4800: loss=409.0724182128906\n",
      "epoch=4900: loss=405.36419677734375\n",
      "W=[ 6.217215    3.2541292   2.8085203  -0.03268726]. b=-5.529259204864502, loss=401.8668212890625\n"
     ]
    },
    {
     "data": {
      "text/plain": "<Figure size 640x480 with 1 Axes>",
      "image/png": "[encoded data removed]"
     },
     "metadata": {},
     "output_type": "display_data"
    },
    {
     "data": {
      "text/plain": "<Figure size 640x480 with 1 Axes>",
      "image/png": "[encoded data removed]"
     },
     "metadata": {},
     "output_type": "display_data"
    }
   ]
  },
  {
   "cell_type": "code",
   "execution_count": null,
   "outputs": [],
   "source": [],
   "metadata": {
    "collapsed": false
   }
  }
 ]
}
